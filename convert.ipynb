{
 "cells": [
  {
   "cell_type": "code",
   "execution_count": null,
   "metadata": {},
   "outputs": [],
   "source": [
    "from otoole import ReadCsv\n",
    "import os\n",
    "\n",
    "import xarray as xr\n",
    "from numpy import inf\n",
    "\n",
    "from otoole.utils import (\n",
    "    _read_file,\n",
    "    validate_config\n",
    ")\n",
    "\n",
    "import logging\n",
    "\n",
    "from variables import add_variables\n",
    "\n",
    "logger = logging.getLogger(__name__)\n",
    "\n",
    "config_path = \"config.yaml\"\n",
    "folder_path = os.path.join('test', 'simplicity')\n",
    "# folder_path = os.path.join('test', 'super_simple')\n",
    "\n",
    "with open(config_path, \"r\") as config_file:\n",
    "    config = _read_file(config_file, '.yaml')\n",
    "validate_config(config)\n",
    "\n",
    "read_strategy = ReadCsv(user_config=config)\n",
    "\n",
    "model, defaults = read_strategy.read(folder_path)\n",
    "logging.debug(model.keys())"
   ]
  },
  {
   "cell_type": "code",
   "execution_count": null,
   "metadata": {},
   "outputs": [],
   "source": [
    "data_vars = {x: y.VALUE.to_xarray() for x, y in model.items() if config[x]['type'] == 'param'}\n",
    "coords = {x: y.values.T[0] for x, y in model.items() if config[x]['type'] == 'set'}\n",
    "ds = xr.Dataset(data_vars=data_vars, coords=coords)\n",
    "ds = ds.assign_coords({'_REGION': model['REGION'].values.T[0]})"
   ]
  },
  {
   "cell_type": "code",
   "execution_count": null,
   "metadata": {},
   "outputs": [],
   "source": [
    "for param, default in defaults.items():\n",
    "    if default != 0:\n",
    "        ds[param] = ds[param].fillna(default)"
   ]
  },
  {
   "cell_type": "markdown",
   "metadata": {},
   "source": [
    "# Model Creation"
   ]
  },
  {
   "cell_type": "code",
   "execution_count": null,
   "metadata": {},
   "outputs": [],
   "source": [
    "from linopy import Model, solvers, available_solvers\n",
    "m = Model(force_dim_names=True)"
   ]
  },
  {
   "cell_type": "markdown",
   "metadata": {},
   "source": [
    "## Variables"
   ]
  },
  {
   "cell_type": "code",
   "execution_count": null,
   "metadata": {},
   "outputs": [],
   "source": [
    "m = add_variables(ds, m)"
   ]
  },
  {
   "cell_type": "code",
   "execution_count": null,
   "metadata": {},
   "outputs": [],
   "source": [
    "RRTiFY = [ds.coords['REGION'], ds.coords['_REGION'], ds.coords['TIMESLICE'], ds.coords['FUEL'], ds.coords['YEAR']]\n",
    "RRFY = [ds.coords['REGION'], ds.coords['_REGION'], ds.coords['FUEL'], ds.coords['YEAR']]\n",
    "RFY = [ds.coords['REGION'], ds.coords['FUEL'], ds.coords['YEAR']]\n",
    "RTiFY = [ds.coords['REGION'], ds.coords['TIMESLICE'], ds.coords['FUEL'], ds.coords['YEAR']]\n",
    "RSY = [ds.coords['REGION'], ds.coords['STORAGE'], ds.coords['YEAR']]\n",
    "RTeY = [ds.coords['REGION'], ds.coords['TECHNOLOGY'], ds.coords['YEAR']]"
   ]
  },
  {
   "attachments": {},
   "cell_type": "markdown",
   "metadata": {},
   "source": [
    "# Discounting\n",
    "\n",
    "```ampl\n",
    "param DiscountRate{r in REGION};\n",
    "param DiscountRateIdv{r in REGION, t in TECHNOLOGY}, default DiscountRate[r];\n",
    "\n",
    "param DiscountFactor{r in REGION, y in YEAR} :=\n",
    "\t(1 + DiscountRate[r]) ^ (y - min{yy in YEAR} min(yy) + 0.0);\n",
    "param DiscountFactorMid{r in REGION, y in YEAR} :=\n",
    "\t(1 + DiscountRate[r]) ^ (y - min{yy in YEAR} min(yy) + 0.5);\n",
    "\n",
    "param OperationalLife{r in REGION, t in TECHNOLOGY};\n",
    "\n",
    "param CapitalRecoveryFactor{r in REGION, t in TECHNOLOGY} :=\n",
    "\t(1 - (1 + DiscountRateIdv[r,t])^(-1))/(1 - (1 + DiscountRateIdv[r,t])^(-(OperationalLife[r,t])));\n",
    "param PvAnnuity{r in REGION, t in TECHNOLOGY} :=\n",
    "\t(1 - (1 + DiscountRate[r])^(-(OperationalLife[r,t]))) * (1 + DiscountRate[r]) / DiscountRate[r];\n",
    "\n",
    "param DiscountRateStorage{r in REGION, s in STORAGE};\n",
    "param DiscountFactorStorage{r in REGION, s in STORAGE, y in YEAR} :=\n",
    "\t(1 + DiscountRateStorage[r, s]) ^ (y - min{yy in YEAR} min(yy) + 0.0);\n",
    "param DiscountFactorMidStorage{r in REGION, s in STORAGE, y in YEAR} :=\n",
    "\t(1 + DiscountRateStorage[r, s]) ^ (y - min{yy in YEAR} min(yy) + 0.5);\n",
    "```"
   ]
  },
  {
   "cell_type": "code",
   "execution_count": null,
   "metadata": {},
   "outputs": [],
   "source": [
    "discount_factor = ((1 + ds['DiscountRate']) ** -(ds.coords['YEAR'] - min(ds.coords['YEAR'])))\n",
    "discount_factor_mid = ((1 + ds['DiscountRate']) ** -(ds.coords['YEAR'] - min(ds.coords['YEAR']) + 0.5))"
   ]
  },
  {
   "cell_type": "code",
   "execution_count": null,
   "metadata": {},
   "outputs": [],
   "source": [
    "discount_factor.plot()"
   ]
  },
  {
   "cell_type": "code",
   "execution_count": null,
   "metadata": {},
   "outputs": [],
   "source": [
    "discount_factor_idv = ((1 + ds['DiscountRateIdv']) ** -(ds.coords['YEAR'] - min(ds.coords['YEAR'])))\n",
    "discount_factor_mid_idv = ((1 + ds['DiscountRateIdv']) ** -(ds.coords['YEAR'] - min(ds.coords['YEAR']) + 0.5))"
   ]
  },
  {
   "cell_type": "code",
   "execution_count": null,
   "metadata": {},
   "outputs": [],
   "source": [
    "pv_annuity = (1 - (1 + ds['DiscountRateIdv'])**(-(ds['OperationalLife']))) * (1 + ds['DiscountRateIdv']) / ds['DiscountRateIdv']\n",
    "pv_annuity"
   ]
  },
  {
   "cell_type": "code",
   "execution_count": null,
   "metadata": {},
   "outputs": [],
   "source": [
    "capital_recovery_factor = (1 - (1 + ds['DiscountRateIdv'])**(-1))/(1 - (1 + ds['DiscountRateIdv'])**(-(ds['OperationalLife'])))\n",
    "capital_recovery_factor"
   ]
  },
  {
   "cell_type": "code",
   "execution_count": null,
   "metadata": {},
   "outputs": [],
   "source": [
    "capital_recovery_factor.to_dataframe(name='crf').plot(kind='bar')"
   ]
  },
  {
   "cell_type": "code",
   "execution_count": null,
   "metadata": {},
   "outputs": [],
   "source": [
    "pv_annuity * capital_recovery_factor"
   ]
  },
  {
   "cell_type": "markdown",
   "metadata": {},
   "source": [
    "# Constraints"
   ]
  },
  {
   "cell_type": "markdown",
   "metadata": {},
   "source": [
    "## Demand"
   ]
  },
  {
   "cell_type": "markdown",
   "metadata": {},
   "source": [
    "```ampl\n",
    "s.t. EQ_SpecifiedDemand{r in REGION, l in TIMESLICE, f in FUEL, y in YEAR:\n",
    "\t\t\t\t\t\tSpecifiedAnnualDemand[r,f,y] <> 0}:\n",
    "\tSpecifiedAnnualDemand[r,f,y] * SpecifiedDemandProfile[r,f,l,y] / YearSplit[l,y]\n",
    "\t=\n",
    "\tRateOfDemand[r,l,f,y];\n",
    "\t```"
   ]
  },
  {
   "cell_type": "code",
   "execution_count": null,
   "metadata": {},
   "outputs": [],
   "source": [
    "mask = ~ds['SpecifiedAnnualDemand'].isnull()\n",
    "con = m['RateOfDemand'] == (ds['SpecifiedAnnualDemand'] * ds['SpecifiedDemandProfile'] / ds['YearSplit'])\n",
    "m.add_constraints(con, name='EQ_SpecifiedDemand', mask=mask)"
   ]
  },
  {
   "cell_type": "markdown",
   "metadata": {},
   "source": [
    "## Capacity Adequacy A"
   ]
  },
  {
   "cell_type": "markdown",
   "metadata": {},
   "source": [
    "```ampl\n",
    "s.t. CAa1_TotalNewCapacity{r in REGION, t in TECHNOLOGY, y in YEAR}:\n",
    "\tAccumulatedNewCapacity[r,t,y]\n",
    "\t=\n",
    "\tsum{yy in YEAR: y-yy < OperationalLife[r,t] && y - yy >= 0} NewCapacity[r,t,yy];\n",
    "```"
   ]
  },
  {
   "cell_type": "code",
   "execution_count": null,
   "metadata": {},
   "outputs": [],
   "source": [
    "def bounds(model, r, t, y):\n",
    "    return m['AccumulatedNewCapacity'][r,t,y] - 1 * \\\n",
    "                sum(m['NewCapacity'][r,t,yy] for yy in ds.coords['YEAR'].values \n",
    "                    if (y-yy >= 0) and (y-yy < ds['OperationalLife'].sel({'REGION':r, 'TECHNOLOGY': t}))) == 0\n",
    "    \n",
    "m.add_constraints(bounds, coords=RTeY, name='CAa1_TotalNewCapacity')"
   ]
  },
  {
   "cell_type": "markdown",
   "metadata": {},
   "source": [
    "```ampl\n",
    "s.t. CAa2_TotalAnnualCapacity{r in REGION, t in TECHNOLOGY, y in YEAR}:\n",
    "\tAccumulatedNewCapacity[r,t,y] + ResidualCapacity[r,t,y]\n",
    "\t=\n",
    "\tTotalCapacityAnnual[r,t,y];\n",
    "```"
   ]
  },
  {
   "cell_type": "code",
   "execution_count": null,
   "metadata": {},
   "outputs": [],
   "source": [
    "con = m['AccumulatedNewCapacity'] - m['TotalCapacityAnnual'] == -ds['ResidualCapacity'].fillna(0)\n",
    "m.add_constraints(con, name=\"CAa2_TotalAnnualCapacity\", coords=RTeY)"
   ]
  },
  {
   "cell_type": "markdown",
   "metadata": {},
   "source": [
    "```ampl\n",
    "s.t. CAa3_TotalActivityOfEachTechnology{r in REGION, t in TECHNOLOGY, l in TIMESLICE, y in YEAR}:\n",
    "\tsum{m in MODE_OF_OPERATION} RateOfActivity[r,l,t,m,y]\n",
    "\t=\n",
    "\tRateOfTotalActivity[r,t,l,y];\n",
    "```"
   ]
  },
  {
   "cell_type": "code",
   "execution_count": null,
   "metadata": {},
   "outputs": [],
   "source": [
    "con = m['RateOfActivity'].sum(dims='MODE_OF_OPERATION') - m['RateOfTotalActivity'] == 0\n",
    "m.add_constraints(con, name='CAa3_TotalActivityOfEachTechnology')"
   ]
  },
  {
   "cell_type": "markdown",
   "metadata": {},
   "source": [
    "```ampl\n",
    "s.t. CAa4_Constraint_Capacity{r in REGION, l in TIMESLICE, t in TECHNOLOGY, y in YEAR}:\n",
    "\tRateOfTotalActivity[r,t,l,y]\n",
    "\t<=\n",
    "\tTotalCapacityAnnual[r,t,y] * CapacityFactor[r,t,l,y] * CapacityToActivityUnit[r,t];\n",
    "```"
   ]
  },
  {
   "cell_type": "code",
   "execution_count": null,
   "metadata": {},
   "outputs": [],
   "source": [
    "con = m['RateOfTotalActivity'] - (m['TotalCapacityAnnual'] * ds['CapacityFactor'] * ds['CapacityToActivityUnit']) <=0\n",
    "mask = ~ds['CapacityFactor'].isnull()\n",
    "m.add_constraints(con, name='CAa4_Constraint_Capacity', mask=mask)"
   ]
  },
  {
   "cell_type": "markdown",
   "metadata": {},
   "source": [
    "```ampl\n",
    "s.t. CAa5_TotalNewCapacity{r in REGION, t in TECHNOLOGY, y in YEAR: CapacityOfOneTechnologyUnit[r,t,y]<>0}:\n",
    "\tCapacityOfOneTechnologyUnit[r,t,y] * NumberOfNewTechnologyUnits[r,t,y]\n",
    "\t=\n",
    "\tNewCapacity[r,t,y];\n",
    "```"
   ]
  },
  {
   "cell_type": "code",
   "execution_count": null,
   "metadata": {},
   "outputs": [],
   "source": [
    "con = ds['CapacityOfOneTechnologyUnit'] * m['NumberOfNewTechnologyUnits'] - m['NewCapacity'] == 0\n",
    "mask = ~ds['CapacityOfOneTechnologyUnit'].isnull()\n",
    "m.add_constraints(con, name='CAa5_TotalNewCapacity', mask=mask)"
   ]
  },
  {
   "cell_type": "markdown",
   "metadata": {},
   "source": [
    "## Capacity Adequacy B\n",
    "```ampl\n",
    "s.t. CAb1_PlannedMaintenance{r in REGION, t in TECHNOLOGY, y in YEAR: AvailabilityFactor[r,t,y] < 1}:\n",
    "\tsum{l in TIMESLICE} RateOfTotalActivity[r,t,l,y] * YearSplit[l,y]\n",
    "\t<=\n",
    "\tsum{l in TIMESLICE} (TotalCapacityAnnual[r,t,y] * CapacityFactor[r,t,l,y] * YearSplit[l,y])\n",
    "\t* AvailabilityFactor[r,t,y] * CapacityToActivityUnit[r,t];\n",
    "```"
   ]
  },
  {
   "cell_type": "code",
   "execution_count": null,
   "metadata": {},
   "outputs": [],
   "source": [
    "mask = ds['AvailabilityFactor'] < 1\n",
    "con = (m['RateOfTotalActivity'] * ds['YearSplit']).sum(dims='TIMESLICE') \\\n",
    "      - (m['TotalCapacityAnnual'] * ds['CapacityFactor'] * ds['YearSplit']).sum(dims='TIMESLICE') * ds['AvailabilityFactor'] * ds['CapacityToActivityUnit'] <= 0\n",
    "m.add_constraints(con, name='CAb1_PlannedMaintenance', coords=RTeY, mask=mask)"
   ]
  },
  {
   "cell_type": "markdown",
   "metadata": {},
   "source": [
    "## Energy Balance A"
   ]
  },
  {
   "cell_type": "markdown",
   "metadata": {},
   "source": [
    "```ampl\n",
    "s.t. EBa1_RateOfFuelProduction1{\n",
    "\tr in REGION, l in TIMESLICE, f in FUEL, t in TECHNOLOGY, m in MODE_OF_OPERATION, y in YEAR:\n",
    "\tOutputActivityRatio[r,t,f,m,y] <> 0}:\n",
    "\tRateOfActivity[r,l,t,m,y] * OutputActivityRatio[r,t,f,m,y]\n",
    "\t=\n",
    "\tRateOfProductionByTechnologyByMode[r,l,t,m,f,y];\n",
    "```"
   ]
  },
  {
   "cell_type": "code",
   "execution_count": null,
   "metadata": {},
   "outputs": [],
   "source": [
    "mask = ~ds['OutputActivityRatio'].isnull()\n",
    "con = m['RateOfActivity'] * ds['OutputActivityRatio'] - m['RateOfProductionByTechnologyByMode'] == 0\n",
    "m.add_constraints(con, name='EBa1_RateOfFuelProduction1', mask=mask)"
   ]
  },
  {
   "cell_type": "markdown",
   "metadata": {},
   "source": [
    "```ampl\n",
    "s.t. EBa2_RateOfFuelProduction2{r in REGION, l in TIMESLICE, f in FUEL, t in TECHNOLOGY, y in YEAR}:\n",
    "\tsum{m in MODE_OF_OPERATION: OutputActivityRatio[r,t,f,m,y] <> 0} RateOfProductionByTechnologyByMode[r,l,t,m,f,y]\n",
    "\t=\n",
    "\tRateOfProductionByTechnology[r,l,t,f,y];\n",
    "```"
   ]
  },
  {
   "cell_type": "code",
   "execution_count": null,
   "metadata": {},
   "outputs": [],
   "source": [
    "mask = ds['OutputActivityRatio'].sum(dim='MODE_OF_OPERATION') != 0\n",
    "con = (m['RateOfProductionByTechnologyByMode']).sum(dims='MODE_OF_OPERATION') - m['RateOfProductionByTechnology'] == 0\n",
    "m.add_constraints(con, name='EBa2_RateOfFuelProduction2', mask=mask)"
   ]
  },
  {
   "cell_type": "markdown",
   "metadata": {},
   "source": [
    "```ampl\n",
    "s.t. EBa3_RateOfFuelProduction3{r in REGION, l in TIMESLICE, f in FUEL, y in YEAR:\n",
    "\t\t\t\t\t\t\t    (sum{t in TECHNOLOGY, m in MODE_OF_OPERATION} OutputActivityRatio[r,t,f,m,y]) <> 0}:\n",
    "\tsum{t in TECHNOLOGY} RateOfProductionByTechnology[r,l,t,f,y]\n",
    "\t=\n",
    "\tRateOfProduction[r,l,f,y];\n",
    "```"
   ]
  },
  {
   "cell_type": "code",
   "execution_count": null,
   "metadata": {},
   "outputs": [],
   "source": [
    "con = m['RateOfProductionByTechnology'].sum(dims='TECHNOLOGY') - m['RateOfProduction'] == 0\n",
    "mask = ~ds['OutputActivityRatio'].sum(dim=['TECHNOLOGY', 'MODE_OF_OPERATION']).isnull()\n",
    "m.add_constraints(con, name='EBa3_RateOfFuelProduction3', mask=mask)"
   ]
  },
  {
   "cell_type": "markdown",
   "metadata": {},
   "source": [
    "```ampl\n",
    "s.t. EBa4_RateOfFuelUse1{r in REGION, l in TIMESLICE, f in FUEL, t in TECHNOLOGY, m in MODE_OF_OPERATION, y in YEAR:\n",
    "\t\t\t\t\t\t InputActivityRatio[r,t,f,m,y] <> 0}:\n",
    "\tRateOfActivity[r,l,t,m,y] * InputActivityRatio[r,t,f,m,y]\n",
    "\t=\n",
    "\tRateOfUseByTechnologyByMode[r,l,t,m,f,y];\n",
    "```"
   ]
  },
  {
   "cell_type": "code",
   "execution_count": null,
   "metadata": {},
   "outputs": [],
   "source": [
    "con = m['RateOfActivity'] * ds['InputActivityRatio'] - m['RateOfUseByTechnologyByMode'] == 0\n",
    "mask = ~ds['InputActivityRatio'].isnull()\n",
    "m.add_constraints(con, name='EBa4_RateOfFuelUse1', mask=mask)"
   ]
  },
  {
   "cell_type": "markdown",
   "metadata": {},
   "source": [
    "```ampl\n",
    "s.t. EBa5_RateOfFuelUse2{r in REGION, l in TIMESLICE, f in FUEL, t in TECHNOLOGY, y in YEAR:\n",
    "\t\t\t\t\t\t sum{m in MODE_OF_OPERATION} InputActivityRatio[r,t,f,m,y] <> 0}:\n",
    "\tsum{m in MODE_OF_OPERATION: InputActivityRatio[r,t,f,m,y] <> 0}\n",
    "\tRateOfUseByTechnologyByMode[r,l,t,m,f,y]\n",
    "\t=\n",
    "\tRateOfUseByTechnology[r,l,t,f,y];\n",
    "```"
   ]
  },
  {
   "cell_type": "code",
   "execution_count": null,
   "metadata": {},
   "outputs": [],
   "source": [
    "con = m['RateOfUseByTechnologyByMode'].sum(dims='MODE_OF_OPERATION') - m['RateOfUseByTechnology'] == 0\n",
    "mask = ds['InputActivityRatio'].sum(dim='MODE_OF_OPERATION') != 0\n",
    "m.add_constraints(con, name='EBa5_RateOfFuelUse2', mask=mask)"
   ]
  },
  {
   "cell_type": "markdown",
   "metadata": {},
   "source": [
    "```ampl\n",
    "s.t. EBa6_RateOfFuelUse3{r in REGION, l in TIMESLICE, f in FUEL, y in YEAR:\n",
    "\t\t\t\t\t\t sum{t in TECHNOLOGY, m in MODE_OF_OPERATION} InputActivityRatio[r,t,f,m,y] <> 0}:\n",
    "\tsum{t in TECHNOLOGY} RateOfUseByTechnology[r,l,t,f,y]\n",
    "\t=\n",
    "\tRateOfUse[r,l,f,y];\n",
    "```"
   ]
  },
  {
   "cell_type": "code",
   "execution_count": null,
   "metadata": {},
   "outputs": [],
   "source": [
    "con = m['RateOfUseByTechnology'].sum(dims='TECHNOLOGY') - m['RateOfUse'] == 0\n",
    "mask = ds['InputActivityRatio'].sum(dim=['TECHNOLOGY', 'MODE_OF_OPERATION']) != 0\n",
    "m.add_constraints(con, name='EBa6_RateOfFuelUse3', mask=mask)"
   ]
  },
  {
   "cell_type": "markdown",
   "metadata": {},
   "source": [
    "```ampl\n",
    "s.t. EBa7_EnergyBalanceEachTS1{r in REGION, l in TIMESLICE, f in FUEL, y in YEAR:\n",
    "\t\t\t\t\t\t\t   (sum{t in TECHNOLOGY, m in MODE_OF_OPERATION} OutputActivityRatio[r,t,f,m,y]) <> 0}:\n",
    "\tRateOfProduction[r,l,f,y] * YearSplit[l,y]\n",
    "\t=\n",
    "\tProduction[r,l,f,y];\n",
    "```"
   ]
  },
  {
   "cell_type": "code",
   "execution_count": null,
   "metadata": {},
   "outputs": [],
   "source": [
    "con = m['RateOfProduction'] * ds['YearSplit'] - m['Production'] == 0\n",
    "mask = ds['OutputActivityRatio'].sum(dim=['TECHNOLOGY', 'MODE_OF_OPERATION']) != 0\n",
    "m.add_constraints(con, name='EBa7_EnergyBalanceEachTS1', mask=mask)"
   ]
  },
  {
   "cell_type": "markdown",
   "metadata": {},
   "source": [
    "```ampl\n",
    "s.t. EBa8_EnergyBalanceEachTS2{r in REGION, l in TIMESLICE, f in FUEL, y in YEAR:\n",
    "\t\t\t\t\t\t\t   (sum{t in TECHNOLOGY, m in MODE_OF_OPERATION} InputActivityRatio[r,t,f,m,y]) <> 0}:\n",
    "\tRateOfUse[r,l,f,y] * YearSplit[l,y]\n",
    "\t=\n",
    "\tUse[r,l,f,y];\n",
    "```"
   ]
  },
  {
   "cell_type": "code",
   "execution_count": null,
   "metadata": {},
   "outputs": [],
   "source": [
    "con = (m['RateOfUse'] * ds['YearSplit']) - m['Use'] == 0\n",
    "mask = ds['InputActivityRatio'].sum(dim=['TECHNOLOGY', 'MODE_OF_OPERATION']) != 0\n",
    "m.add_constraints(con, name='EBa8_EnergyBalanceEachTS2', mask=mask)"
   ]
  },
  {
   "cell_type": "markdown",
   "metadata": {},
   "source": [
    "```ampl\n",
    "s.t. EBa9_EnergyBalanceEachTS3{r in REGION, l in TIMESLICE, f in FUEL, y in YEAR:\n",
    "\t\t\t\t\t\t\t   SpecifiedAnnualDemand[r,f,y] <> 0}:\n",
    "\tRateOfDemand[r,l,f,y] * YearSplit[l,y]\n",
    "\t=\n",
    "\tDemand[r,l,f,y];\n",
    "```"
   ]
  },
  {
   "cell_type": "code",
   "execution_count": null,
   "metadata": {},
   "outputs": [],
   "source": [
    "con = m['RateOfDemand'] * ds['YearSplit'] - m['Demand'] == 0\n",
    "mask = ~ds['SpecifiedAnnualDemand'].isnull()\n",
    "m.add_constraints(con, name='EBa9_EnergyBalanceEachTS3', mask=mask)"
   ]
  },
  {
   "cell_type": "markdown",
   "metadata": {},
   "source": [
    "```ampl\n",
    "s.t. EBa10_EnergyBalanceEachTS4{r in REGION, rr in REGION, l in TIMESLICE, f in FUEL, y in YEAR:\n",
    "\t\t\t\t\t\t\t\tTradeRoute[r,rr,f,y] <> 0}:\n",
    "\tTrade[r,rr,l,f,y]\n",
    "\t=\n",
    "\t-Trade[rr,r,l,f,y];\n",
    "```\n",
    "\n",
    "```python\n",
    "def EnergyBalanceEachTS4_rule(model, r, rr, l, f, y):\n",
    "    return model.Trade[r, rr, l, f, y] + model.Trade[rr, r, l, f, y] == 0\n",
    "```"
   ]
  },
  {
   "cell_type": "code",
   "execution_count": null,
   "metadata": {},
   "outputs": [],
   "source": [
    "def energy_balance_each_ts4_rule(model, r, rr, l, f, y):\n",
    "    return m['Trade'][r,rr,l,f,y] + m['Trade'][rr,r,l,f,y] == 0\n",
    "tr = ds['TradeRoute']\n",
    "mask = ~tr.where(tr.REGION != tr._REGION).isnull()\n",
    "m.add_constraints(energy_balance_each_ts4_rule, name='EBa10_EnergyBalanceEachTS4', mask=mask, coords=RRTiFY)"
   ]
  },
  {
   "cell_type": "markdown",
   "metadata": {},
   "source": [
    "```ampl\n",
    "s.t. EBa11_EnergyBalanceEachTS5{r in REGION, l in TIMESLICE, f in FUEL, y in YEAR}:\n",
    "\tProduction[r,l,f,y]\n",
    "\t>=\n",
    "\tDemand[r,l,f,y] + Use[r,l,f,y] + sum{rr in REGION} Trade[r,rr,l,f,y] * TradeRoute[r,rr,f,y];\n",
    "```"
   ]
  },
  {
   "cell_type": "code",
   "execution_count": null,
   "metadata": {},
   "outputs": [],
   "source": [
    "con = m['Production'] - (m['Demand'] + m['Use'] + (m['Trade'] * ds['TradeRoute'].fillna(0)).sum(dims='_REGION')) >= 0\n",
    "m.add_constraints(con, name='EBa11_EnergyBalanceEachTS5')"
   ]
  },
  {
   "cell_type": "markdown",
   "metadata": {},
   "source": [
    "# Energy Balance B"
   ]
  },
  {
   "attachments": {},
   "cell_type": "markdown",
   "metadata": {},
   "source": [
    "```ampl\n",
    "s.t. EBb1_EnergyBalanceEachYear1{r in REGION, f in FUEL, y in YEAR}:\n",
    "\tsum{l in TIMESLICE} Production[r,l,f,y]\n",
    "\t=\n",
    "\tProductionAnnual[r,f,y];\n",
    "```"
   ]
  },
  {
   "cell_type": "code",
   "execution_count": null,
   "metadata": {},
   "outputs": [],
   "source": [
    "con = m['Production'].sum(dims='TIMESLICE') - m['ProductionAnnual'] == 0\n",
    "m.add_constraints(con, name='EBb1_EnergyBalanceEachYear1')"
   ]
  },
  {
   "cell_type": "markdown",
   "metadata": {},
   "source": [
    "```ampl\n",
    "s.t. EBb2_EnergyBalanceEachYear2{r in REGION, f in FUEL, y in YEAR}:\n",
    "\tsum{l in TIMESLICE} Use[r,l,f,y]\n",
    "\t=\n",
    "\tUseAnnual[r,f,y];\n",
    "```"
   ]
  },
  {
   "cell_type": "code",
   "execution_count": null,
   "metadata": {},
   "outputs": [],
   "source": [
    "con = m['Use'].sum('TIMESLICE') - m['UseAnnual'] == 0\n",
    "ebb2_energy_balance_each_year2 = m.add_constraints(con, name='EBb2_EnergyBalanceEachYear2')"
   ]
  },
  {
   "cell_type": "code",
   "execution_count": null,
   "metadata": {},
   "outputs": [],
   "source": [
    "ebb2_energy_balance_each_year2"
   ]
  },
  {
   "cell_type": "markdown",
   "metadata": {},
   "source": [
    "```ampl\n",
    "s.t. EBb3_EnergyBalanceEachYear3{r in REGION, rr in REGION, f in FUEL, y in YEAR}:\n",
    "\tsum{l in TIMESLICE} Trade[r,rr,l,f,y]\n",
    "\t=\n",
    "\tTradeAnnual[r,rr,f,y];\n",
    "```"
   ]
  },
  {
   "cell_type": "code",
   "execution_count": null,
   "metadata": {},
   "outputs": [],
   "source": [
    "con = m['Trade'].sum('TIMESLICE') - m['TradeAnnual'] == 0\n",
    "mask = ds.coords['REGION'] != ds.coords['_REGION']\n",
    "m.add_constraints(con, name='EBb3_EnergyBalanceEachYear3', mask=mask)"
   ]
  },
  {
   "cell_type": "markdown",
   "metadata": {},
   "source": [
    "```ampl\n",
    "s.t. EBb4_EnergyBalanceEachYear4{r in REGION, f in FUEL, y in YEAR}:\n",
    "\tProductionAnnual[r,f,y]\n",
    "\t>=\n",
    "\tUseAnnual[r,f,y] + sum{rr in REGION} TradeAnnual[r,rr,f,y] * TradeRoute[r,rr,f,y] + AccumulatedAnnualDemand[r,f,y];\n",
    "```"
   ]
  },
  {
   "cell_type": "code",
   "execution_count": null,
   "metadata": {},
   "outputs": [],
   "source": [
    "con = m['ProductionAnnual'] - m['UseAnnual'] - (m['TradeAnnual'].sum('_REGION') * ds['TradeRoute'].sum('_REGION')) >= ds['AccumulatedAnnualDemand'].fillna(0)\n",
    "m.add_constraints(con, name='EBb4_EnergyBalanceEachYear4')"
   ]
  },
  {
   "cell_type": "markdown",
   "metadata": {},
   "source": [
    "# Accounting Technology Production/Use"
   ]
  },
  {
   "attachments": {},
   "cell_type": "markdown",
   "metadata": {},
   "source": [
    "```ampl\n",
    "s.t. Acc1_FuelProductionByTechnology{r in REGION, l in TIMESLICE, t in TECHNOLOGY, f in FUEL, y in YEAR}:\n",
    "\tRateOfProductionByTechnology[r,l,t,f,y] * YearSplit[l,y]\n",
    "\t=\n",
    "\tProductionByTechnology[r,l,t,f,y];\n",
    "```"
   ]
  },
  {
   "cell_type": "code",
   "execution_count": null,
   "metadata": {},
   "outputs": [],
   "source": [
    "con = (m['RateOfProductionByTechnology'] * ds['YearSplit']) - m['ProductionByTechnology'] == 0\n",
    "mask = ds['OutputActivityRatio'].sum('MODE_OF_OPERATION') != 0\n",
    "m.add_constraints(con, name='Acc1_FuelProductionByTechnology', mask=mask)"
   ]
  },
  {
   "cell_type": "markdown",
   "metadata": {},
   "source": [
    "```ampl\n",
    "s.t. Acc2_FuelUseByTechnology{r in REGION, l in TIMESLICE, t in TECHNOLOGY, f in FUEL, y in YEAR}:\n",
    "\tRateOfUseByTechnology[r,l,t,f,y] * YearSplit[l,y]\n",
    "\t=\n",
    "\tUseByTechnology[r,l,t,f,y];\n",
    "```"
   ]
  },
  {
   "cell_type": "code",
   "execution_count": null,
   "metadata": {},
   "outputs": [],
   "source": [
    "con = (m['RateOfUseByTechnology'] * ds['YearSplit']) - m['UseByTechnology'] == 0\n",
    "mask = ds['InputActivityRatio'].sum('MODE_OF_OPERATION') != 0\n",
    "m.add_constraints(con, name='Acc2_FuelUseByTechnology', mask=mask)"
   ]
  },
  {
   "cell_type": "markdown",
   "metadata": {},
   "source": [
    "```ampl\n",
    "s.t. Acc3_AverageAnnualRateOfActivity{r in REGION, t in TECHNOLOGY, m in MODE_OF_OPERATION, y in YEAR}:\n",
    "\tsum{l in TIMESLICE} RateOfActivity[r,l,t,m,y]*YearSplit[l,y]\n",
    "\t=\n",
    "\tTotalAnnualTechnologyActivityByMode[r,t,m,y];\n",
    "```"
   ]
  },
  {
   "cell_type": "code",
   "execution_count": null,
   "metadata": {},
   "outputs": [],
   "source": [
    "con = (m['RateOfActivity'] * ds['YearSplit']).sum('TIMESLICE') - m['TotalAnnualTechnologyActivityByMode'] == 0\n",
    "mask = ds['OutputActivityRatio'].sum('FUEL') != 0\n",
    "m.add_constraints(con, name='Acc3_AverageAnnualRateOfActivity', mask=mask)"
   ]
  },
  {
   "cell_type": "markdown",
   "metadata": {},
   "source": [
    "```ampl\n",
    "s.t. Acc4_ModelPeriodCostByRegion{r in REGION}:\n",
    "\tsum{y in YEAR}TotalDiscountedCost[r,y] = ModelPeriodCostByRegion[r];\n",
    "```"
   ]
  },
  {
   "cell_type": "code",
   "execution_count": null,
   "metadata": {},
   "outputs": [],
   "source": [
    "con = m['TotalDiscountedCost'].sum('YEAR') - m['ModelPeriodCostByRegion'] == 0\n",
    "m.add_constraints(con, name='Acc4_ModelPeriodCostByRegion')"
   ]
  },
  {
   "attachments": {},
   "cell_type": "markdown",
   "metadata": {},
   "source": [
    "## Capital Costs"
   ]
  },
  {
   "cell_type": "markdown",
   "metadata": {},
   "source": [
    "```ampl\n",
    "s.t. CC1_UndiscountedCapitalInvestment{r in REGION, t in TECHNOLOGY, y in YEAR}: \n",
    "        CapitalCost[r,t,y] * NewCapacity[r,t,y] * CapitalRecoveryFactor[r,t] * PvAnnuity[r,t] \n",
    "        = \n",
    "        CapitalInvestment[r,t,y];\n",
    "```"
   ]
  },
  {
   "cell_type": "code",
   "execution_count": null,
   "metadata": {},
   "outputs": [],
   "source": [
    "con = ds['CapitalCost'] * m['NewCapacity'] * capital_recovery_factor * pv_annuity - m['CapitalInvestment'] == 0\n",
    "mask = ~ds['CapitalCost'].isnull()\n",
    "m.add_constraints(con, name='CC1_UndiscountedCapitalInvestment', mask=mask)"
   ]
  },
  {
   "attachments": {},
   "cell_type": "markdown",
   "metadata": {},
   "source": [
    "```ampl\n",
    "s.t. CC2_DiscountingCapitalInvestment{r in REGION, t in TECHNOLOGY, y in YEAR}: \n",
    "    CapitalInvestment[r,t,y]  / DiscountFactor[r,y] = DiscountedCapitalInvestment[r,t,y];\n",
    "```"
   ]
  },
  {
   "cell_type": "code",
   "execution_count": null,
   "metadata": {},
   "outputs": [],
   "source": [
    "con = (m['CapitalInvestment'] / ds['DiscountRate']) - m['DiscountedCapitalInvestment'] == 0\n",
    "mask = ~ds['CapitalCost'].isnull()\n",
    "m.add_constraints(con, name='CC2_DiscountingCapitalInvestment', mask=mask)"
   ]
  },
  {
   "attachments": {},
   "cell_type": "markdown",
   "metadata": {},
   "source": [
    "## Salvage Value\n",
    "\n",
    "### GNU MathProg implementation\n",
    "```ampl\n",
    "s.t. SV1_SalvageValueAtEndOfPeriod1{\n",
    "    r in REGION, t in TECHNOLOGY, y in YEAR: \n",
    "        DepreciationMethod[r]=1 && \n",
    "        (y + OperationalLife[r,t]-1) > (max{yy in YEAR} max(yy)) && \n",
    "        DiscountRate[r]>0}: \n",
    "    SalvageValue[r,t,y] \n",
    "    = \n",
    "    CapitalCost[r,t,y] * NewCapacity[r,t,y] * CapitalRecoveryFactor[r,t] * PvAnnuity[r,t] * \n",
    "    (1-(((1+DiscountRate[r])^(max{yy in YEAR} max(yy) - y+1)-1)/((1+DiscountRate[r])^OperationalLife[r,t]-1)));\n",
    "```\n",
    "### Pyomo implementation\n",
    "```python\n",
    "def SalvageValueAtEndOfPeriod1_rule(model, r, t, y):\n",
    "    if (\n",
    "        model.DepreciationMethod[r] == 1\n",
    "        and ((y + model.OperationalLife[r, t] - 1) > max(model.YEAR))\n",
    "        and model.DiscountRate[r] > 0\n",
    "    ):\n",
    "        return model.SalvageValue[r, t, y] == model.CapitalCost[\n",
    "            r, t, y\n",
    "        ] * model.NewCapacity[r, t, y] * (\n",
    "            1\n",
    "            - (\n",
    "                ((1 + model.DiscountRate[r]) ** (max(model.YEAR) - y + 1) - 1)\n",
    "                / ((1 + model.DiscountRate[r]) ** model.OperationalLife[r, t] - 1)\n",
    "            )\n",
    "        )\n",
    "    elif (\n",
    "        model.DepreciationMethod[r] == 1\n",
    "        and ((y + model.OperationalLife[r, t] - 1) > max(model.YEAR))\n",
    "        and model.DiscountRate[r] == 0\n",
    "    ) or (\n",
    "        model.DepreciationMethod[r] == 2\n",
    "        and (y + model.OperationalLife[r, t] - 1) > (max(model.YEAR))\n",
    "    ):\n",
    "        return model.SalvageValue[r, t, y] == model.CapitalCost[\n",
    "            r, t, y\n",
    "        ] * model.NewCapacity[r, t, y] * (\n",
    "            1 - (max(model.YEAR) - y + 1) / model.OperationalLife[r, t]\n",
    "        )\n",
    "    else:\n",
    "        return model.SalvageValue[r, t, y] == 0\n",
    "\n",
    "\n",
    "model.SalvageValueAtEndOfPeriod1 = Constraint(\n",
    "    model.REGION, model.TECHNOLOGY, model.YEAR, rule=SalvageValueAtEndOfPeriod1_rule\n",
    ")\n",
    "```"
   ]
  },
  {
   "cell_type": "code",
   "execution_count": null,
   "metadata": {},
   "outputs": [],
   "source": [
    "def numerator(y: int):\n",
    "    return ((1 + ds['DiscountRateIdv']) ** (max(ds.coords['YEAR']) - y + 1) - 1)\n",
    "\n",
    "def denominator():\n",
    "    return ((1 + ds['DiscountRateIdv']) ** ds['OperationalLife'] - 1)\n",
    "\n",
    "def salvage_cost(ds):\n",
    "    return ds['CapitalCost'].fillna(0) * (1 - (numerator(ds.coords['YEAR']) / denominator()))\n",
    "\n",
    "con = m['SalvageValue'] - (m['NewCapacity'] * salvage_cost(ds)) == 0\n",
    "mask = (ds['DepreciationMethod'] == 1) & ((ds.coords['YEAR'] + ds['OperationalLife'] - 1) > max(ds.coords['YEAR'])) & (ds['DiscountRateIdv'] > 0)\n",
    "m.add_constraints(con, name='SV1_SalvageValueAtEndOfPeriod1', mask=mask)"
   ]
  },
  {
   "attachments": {},
   "cell_type": "markdown",
   "metadata": {},
   "source": [
    "```ampl\n",
    "s.t. SV2_SalvageValueAtEndOfPeriod2{r in REGION, t in TECHNOLOGY, y in YEAR: \n",
    "        (DepreciationMethod[r]=1 && \n",
    "        (y + OperationalLife[r,t]-1) > (max{yy in YEAR} max(yy)) && \n",
    "        DiscountRate[r]=0) \n",
    "        || (DepreciationMethod[r]=2 && \n",
    "        (y + OperationalLife[r,t]-1) > (max{yy in YEAR} max(yy)))}: \n",
    "    SalvageValue[r,t,y] = CapitalCost[r,t,y] * NewCapacity[r,t,y] * CapitalRecoveryFactor[r,t] * PvAnnuity[r,t] *(1-(max{yy in YEAR} max(yy) - y+1)/OperationalLife[r,t]);\n",
    "```"
   ]
  },
  {
   "cell_type": "code",
   "execution_count": null,
   "metadata": {},
   "outputs": [],
   "source": [
    "def numerator(y: int):\n",
    "    return 1 - (max(ds.coords['YEAR']) - y + 1) - 1\n",
    "\n",
    "def denominator():\n",
    "    return ds['OperationalLife']\n",
    "\n",
    "def salvage_cost(ds):\n",
    "    return ds['CapitalCost'].fillna(0) * (1 - (numerator(ds.coords['YEAR']) / denominator()))\n",
    "\n",
    "con = m['SalvageValue'] - (m['NewCapacity'] * salvage_cost(ds)) == 0\n",
    "mask = ((ds['DepreciationMethod'] == 1) & ((ds.coords['YEAR'] + ds['OperationalLife'] - 1) > max(ds.coords['YEAR'])) & (ds['DiscountRateIdv'] == 0)) | ((ds['DepreciationMethod'] == 2) & ((ds.coords['YEAR'] + ds['OperationalLife'] - 1) > max(ds.coords['YEAR'])))\n",
    "m.add_constraints(con, name='SV2_SalvageValueAtEndOfPeriod2', mask=mask)"
   ]
  },
  {
   "attachments": {},
   "cell_type": "markdown",
   "metadata": {},
   "source": [
    "```ampl\n",
    "s.t. SV3_SalvageValueAtEndOfPeriod3{r in REGION, t in TECHNOLOGY, y in YEAR: (y + OperationalLife[r,t]-1) <= (max{yy in YEAR} max(yy))}: \n",
    "    SalvageValue[r,t,y] = 0;\n",
    "```"
   ]
  },
  {
   "cell_type": "code",
   "execution_count": null,
   "metadata": {},
   "outputs": [],
   "source": [
    "con = m['SalvageValue'] == 0\n",
    "mask = ((ds.coords['YEAR'] + ds['OperationalLife'] - 1) <= max(ds.coords['YEAR']))\n",
    "m.add_constraints(con, name='SV3_SalvageValueAtEndOfPeriod3', mask=mask)"
   ]
  },
  {
   "attachments": {},
   "cell_type": "markdown",
   "metadata": {},
   "source": [
    "```ampl\n",
    "s.t. SV4_SalvageValueDiscountedToStartYear{r in REGION, t in TECHNOLOGY, y in YEAR}: \n",
    "    DiscountedSalvageValue[r,t,y] = SalvageValue[r,t,y]/((1+DiscountRate[r])^(1+max{yy in YEAR} max(yy)-min{yy in YEAR} min(yy)));\n",
    "```"
   ]
  },
  {
   "cell_type": "code",
   "execution_count": null,
   "metadata": {},
   "outputs": [],
   "source": [
    "con = m['DiscountedSalvageValue'] - m['SalvageValue'] == 0\n",
    "m.add_constraints(con, name='SV4_SalvageValueDiscountedToStartYear')"
   ]
  },
  {
   "attachments": {},
   "cell_type": "markdown",
   "metadata": {},
   "source": [
    "## Operating Costs"
   ]
  },
  {
   "attachments": {},
   "cell_type": "markdown",
   "metadata": {},
   "source": [
    "```ampl\n",
    "s.t. OC1_OperatingCostsVariable{r in REGION, t in TECHNOLOGY, l in TIMESLICE, y in YEAR: sum{m in MODE_OF_OPERATION} VariableCost[r,t,m,y] <> 0}:\n",
    "\tsum{m in MODE_OF_OPERATION}\n",
    "\tTotalAnnualTechnologyActivityByMode[r,t,m,y] * VariableCost[r,t,m,y]\n",
    "\t=\n",
    "\tAnnualVariableOperatingCost[r,t,y];\n",
    "```"
   ]
  },
  {
   "cell_type": "code",
   "execution_count": null,
   "metadata": {},
   "outputs": [],
   "source": [
    "con = (m['TotalAnnualTechnologyActivityByMode'] * ds['VariableCost'].fillna(0)).sum(dims='MODE_OF_OPERATION') - m['AnnualVariableOperatingCost'] == 0\n",
    "mask = (ds['VariableCost'].sum(dim='MODE_OF_OPERATION') != 0) & (~ds['VariableCost'].sum(dim='MODE_OF_OPERATION').isnull())\n",
    "m.add_constraints(con, name='OC1_OperatingCostsVariable', mask=mask)"
   ]
  },
  {
   "attachments": {},
   "cell_type": "markdown",
   "metadata": {},
   "source": [
    "```ampl\n",
    "s.t. OC2_OperatingCostsFixedAnnual{r in REGION, t in TECHNOLOGY, y in YEAR}:\n",
    "\tTotalCapacityAnnual[r,t,y]*FixedCost[r,t,y]\n",
    "\t=\n",
    "\tAnnualFixedOperatingCost[r,t,y];\n",
    "```"
   ]
  },
  {
   "cell_type": "code",
   "execution_count": null,
   "metadata": {},
   "outputs": [],
   "source": [
    "con = (m['TotalCapacityAnnual'] * ds['FixedCost']) - m['AnnualFixedOperatingCost'] == 0\n",
    "mask = ~ds['FixedCost'].isnull()\n",
    "m.add_constraints(con, name='OC2_OperatingCostsFixedAnnual', mask=mask)"
   ]
  },
  {
   "attachments": {},
   "cell_type": "markdown",
   "metadata": {},
   "source": [
    "```ampl\n",
    "s.t. OC3_OperatingCostsTotalAnnual{r in REGION, t in TECHNOLOGY, y in YEAR}:\n",
    "\tAnnualFixedOperatingCost[r,t,y] + AnnualVariableOperatingCost[r,t,y]\n",
    "\t=\n",
    "\tOperatingCost[r,t,y];\n",
    "```"
   ]
  },
  {
   "cell_type": "code",
   "execution_count": null,
   "metadata": {},
   "outputs": [],
   "source": [
    "con = m['AnnualFixedOperatingCost'] + m['AnnualVariableOperatingCost'] - m['OperatingCost'] == 0\n",
    "mask = (ds['VariableCost'].sum(dim='MODE_OF_OPERATION') != 0) & (~ds['FixedCost'].isnull())\n",
    "m.add_constraints(con, name='OC3_OperatingCostsTotalAnnual', mask=mask)"
   ]
  },
  {
   "attachments": {},
   "cell_type": "markdown",
   "metadata": {},
   "source": [
    "```ampl\n",
    "s.t. OC4_DiscountedOperatingCostsTotalAnnual{r in REGION, t in TECHNOLOGY, y in YEAR}:\n",
    "\tOperatingCost[r,t,y] / DiscountFactorMid[r, y]\n",
    "\t=\n",
    "\tDiscountedOperatingCost[r,t,y];\n",
    "```"
   ]
  },
  {
   "cell_type": "code",
   "execution_count": null,
   "metadata": {},
   "outputs": [],
   "source": [
    "con = m['OperatingCost'] / discount_factor_mid - m['DiscountedOperatingCost'] == 0\n",
    "m.add_constraints(con, name='OC4_DiscountedOperatingCostsTotalAnnual')"
   ]
  },
  {
   "attachments": {},
   "cell_type": "markdown",
   "metadata": {},
   "source": [
    "## Total Discounted Costs\n",
    "\n",
    "```ampl\n",
    "s.t. TDC1_TotalDiscountedCostByTechnology{r in REGION, t in TECHNOLOGY, y in YEAR}: \n",
    "    DiscountedOperatingCost[r,t,y] + DiscountedCapitalInvestment[r,t,y] \n",
    "    + DiscountedTechnologyEmissionsPenalty[r,t,y] - DiscountedSalvageValue[r,t,y] = TotalDiscountedCostByTechnology[r,t,y];\n",
    "```"
   ]
  },
  {
   "cell_type": "code",
   "execution_count": null,
   "metadata": {},
   "outputs": [],
   "source": [
    "con = m['DiscountedOperatingCost'] + m['DiscountedCapitalInvestment'] + m['DiscountedTechnologyEmissionsPenalty'] \\\n",
    "        - m['DiscountedSalvageValue'] - m['TotalDiscountedCostByTechnology'] == 0\n",
    "m.add_constraints(con, name='TDC1_TotalDiscountedCostByTechnology')"
   ]
  },
  {
   "attachments": {},
   "cell_type": "markdown",
   "metadata": {},
   "source": [
    "```ampl\n",
    "s.t. TDC2_TotalDiscountedCost{r in REGION, y in YEAR}: \n",
    "    sum{t in TECHNOLOGY} TotalDiscountedCostByTechnology[r,t,y] + \n",
    "    sum{s in STORAGE} TotalDiscountedStorageCost[r,s,y] \n",
    "    = TotalDiscountedCost[r,y];\n",
    "```"
   ]
  },
  {
   "cell_type": "code",
   "execution_count": null,
   "metadata": {},
   "outputs": [],
   "source": [
    "con = m['TotalDiscountedCostByTechnology'].sum('TECHNOLOGY') + m['TotalDiscountedStorageCost'].sum('STORAGE') - m['TotalDiscountedCost'] == 0\n",
    "m.add_constraints(con, name='TDC2_TotalDiscountedCost')"
   ]
  },
  {
   "attachments": {},
   "cell_type": "markdown",
   "metadata": {},
   "source": [
    "## Total Capacity Constraints\n",
    "\n",
    "```ampl\n",
    "s.t. TCC1_TotalAnnualMaxCapacityConstraint{r in REGION, t in TECHNOLOGY, y in YEAR: TotalAnnualMaxCapacity[r,t,y] <> -1}: \n",
    "    TotalCapacityAnnual[r,t,y] <= TotalAnnualMaxCapacity[r,t,y];\n",
    "```"
   ]
  },
  {
   "cell_type": "code",
   "execution_count": null,
   "metadata": {},
   "outputs": [],
   "source": [
    "con = m['TotalCapacityAnnual'] <= ds['TotalAnnualMaxCapacity']\n",
    "mask = ds['TotalAnnualMaxCapacity'] >= 0\n",
    "m.add_constraints(con, name='TCC1_TotalAnnualMaxCapacityConstraint', mask=mask)"
   ]
  },
  {
   "attachments": {},
   "cell_type": "markdown",
   "metadata": {},
   "source": [
    "```ampl\n",
    "s.t. TCC2_TotalAnnualMinCapacityConstraint{r in REGION, t in TECHNOLOGY, y in YEAR: TotalAnnualMinCapacity[r,t,y]>0}: \n",
    "    TotalCapacityAnnual[r,t,y] >= TotalAnnualMinCapacity[r,t,y];\n",
    "```"
   ]
  },
  {
   "cell_type": "code",
   "execution_count": null,
   "metadata": {},
   "outputs": [],
   "source": [
    "con = m['TotalCapacityAnnual'] >= ds['TotalAnnualMinCapacity']\n",
    "mask = ds['TotalAnnualMinCapacity'] > 0\n",
    "m.add_constraints(con, name='TCC2_TotalAnnualMinCapacityConstraint', mask=mask)"
   ]
  },
  {
   "attachments": {},
   "cell_type": "markdown",
   "metadata": {},
   "source": [
    "# Annual Activity Constraints\n",
    "\n",
    "```ampl\n",
    "s.t. AAC1_TotalAnnualTechnologyActivity{r in REGION, t in TECHNOLOGY, y in YEAR}: \n",
    "    sum{l in TIMESLICE} RateOfTotalActivity[r,t,l,y]*YearSplit[l,y] = TotalTechnologyAnnualActivity[r,t,y];\n",
    "```\n",
    "\n"
   ]
  },
  {
   "cell_type": "code",
   "execution_count": null,
   "metadata": {},
   "outputs": [],
   "source": [
    "con = (m['RateOfTotalActivity'] * ds['YearSplit']).sum('TIMESLICE') - m['TotalTechnologyAnnualActivity'] == 0\n",
    "m.add_constraints(con, name='AAC1_TotalAnnualTechnologyActivity')"
   ]
  },
  {
   "attachments": {},
   "cell_type": "markdown",
   "metadata": {},
   "source": [
    "```ampl\n",
    "s.t. AAC2_TotalAnnualTechnologyActivityUpperLimit{r in REGION, t in TECHNOLOGY, y in YEAR: TotalTechnologyAnnualActivityUpperLimit[r,t,y] <> -1}:\n",
    "    TotalTechnologyAnnualActivity[r,t,y] <= TotalTechnologyAnnualActivityUpperLimit[r,t,y] ;\n",
    "```"
   ]
  },
  {
   "cell_type": "code",
   "execution_count": null,
   "metadata": {},
   "outputs": [],
   "source": [
    "con = m['TotalTechnologyAnnualActivity'] <= ds['TotalTechnologyAnnualActivityUpperLimit']\n",
    "mask = ds['TotalTechnologyAnnualActivityUpperLimit'] >= 0\n",
    "m.add_constraints(con, name='AAC2_TotalAnnualTechnologyActivityUpperLimit', mask=mask)"
   ]
  },
  {
   "attachments": {},
   "cell_type": "markdown",
   "metadata": {},
   "source": [
    "```ampl\n",
    "s.t. AAC3_TotalAnnualTechnologyActivityLowerLimit{r in REGION, t in TECHNOLOGY, y in YEAR: TotalTechnologyAnnualActivityLowerLimit[r,t,y]>0}: \n",
    "    TotalTechnologyAnnualActivity[r,t,y] >= TotalTechnologyAnnualActivityLowerLimit[r,t,y] ;\n",
    "```"
   ]
  },
  {
   "cell_type": "code",
   "execution_count": null,
   "metadata": {},
   "outputs": [],
   "source": [
    "con = m['TotalTechnologyAnnualActivity'] >= ds['TotalTechnologyAnnualActivityLowerLimit']\n",
    "mask = ds['TotalTechnologyAnnualActivityLowerLimit'] > 0\n",
    "m.add_constraints(con, name='AAC3_TotalAnnualTechnologyActivityLowerLimit', mask=mask)"
   ]
  },
  {
   "attachments": {},
   "cell_type": "markdown",
   "metadata": {},
   "source": [
    "# Total Activity Constraints\n",
    "\n",
    "```ampl\n",
    "s.t. TAC1_TotalModelHorizonTechnologyActivity{r in REGION, t in TECHNOLOGY}: \n",
    "    sum{y in YEAR} TotalTechnologyAnnualActivity[r,t,y] = TotalTechnologyModelPeriodActivity[r,t];\n",
    "```"
   ]
  },
  {
   "cell_type": "code",
   "execution_count": null,
   "metadata": {},
   "outputs": [],
   "source": [
    "con = m['TotalTechnologyAnnualActivity'].sum('YEAR') - m['TotalTechnologyModelPeriodActivity'] == 0\n",
    "m.add_constraints(con, name='TAC1_TotalModelHorizonTechnologyActivity')"
   ]
  },
  {
   "attachments": {},
   "cell_type": "markdown",
   "metadata": {},
   "source": [
    "```ampl\n",
    "s.t. TAC2_TotalModelHorizonTechnologyActivityUpperLimit{r in REGION, t in TECHNOLOGY: TotalTechnologyModelPeriodActivityUpperLimit[r,t]<>-1}: \n",
    "    TotalTechnologyModelPeriodActivity[r,t] <= TotalTechnologyModelPeriodActivityUpperLimit[r,t] ;\n",
    "```"
   ]
  },
  {
   "cell_type": "code",
   "execution_count": null,
   "metadata": {},
   "outputs": [],
   "source": [
    "con = m['TotalTechnologyModelPeriodActivity'] <= ds['TotalTechnologyModelPeriodActivityUpperLimit']\n",
    "mask = ds['TotalTechnologyModelPeriodActivityUpperLimit'] >= 0\n",
    "m.add_constraints(con, name='TAC2_TotalModelHorizonTechnologyActivityUpperLimit', mask=mask)"
   ]
  },
  {
   "attachments": {},
   "cell_type": "markdown",
   "metadata": {},
   "source": [
    "```ampl\n",
    "s.t. TAC3_TotalModelHorizenTechnologyActivityLowerLimit{r in REGION, t in TECHNOLOGY: TotalTechnologyModelPeriodActivityLowerLimit[r,t]>0}: \n",
    "    TotalTechnologyModelPeriodActivity[r,t] >= TotalTechnologyModelPeriodActivityLowerLimit[r,t] ;\n",
    "```"
   ]
  },
  {
   "cell_type": "code",
   "execution_count": null,
   "metadata": {},
   "outputs": [],
   "source": [
    "con = m['TotalTechnologyModelPeriodActivity'] >= ds['TotalTechnologyModelPeriodActivityLowerLimit']\n",
    "mask = ds['TotalTechnologyModelPeriodActivityLowerLimit'] > 0\n",
    "m.add_constraints(con, name='TAC3_TotalModelHorizenTechnologyActivityLowerLimit', mask=mask)"
   ]
  },
  {
   "cell_type": "markdown",
   "metadata": {},
   "source": [
    "## Emissions"
   ]
  },
  {
   "cell_type": "markdown",
   "metadata": {},
   "source": [
    "```ampl\n",
    "s.t. E1_AnnualEmissionProductionByMode{r in REGION, t in TECHNOLOGY, e in EMISSION, m in MODE_OF_OPERATION, y in YEAR:\n",
    "\t\t\t\t\t\t\t\t\t   EmissionActivityRatio[r,t,e,m,y] <> 0}:\n",
    "\tEmissionActivityRatio[r,t,e,m,y] * TotalAnnualTechnologyActivityByMode[r,t,m,y]\n",
    "\t=\n",
    "\tAnnualTechnologyEmissionByMode[r,t,e,m,y];\n",
    "```\n"
   ]
  },
  {
   "cell_type": "code",
   "execution_count": null,
   "metadata": {},
   "outputs": [],
   "source": [
    "if ~ds.coords['EMISSION'].isnull():\n",
    "    mask = ~ds['EmissionActivityRatio'].isnull()\n",
    "    con = ds['EmissionActivityRatio'] * m['TotalAnnualTechnologyActivityByMode'] - m['AnnualTechnologyEmissionByMode'] == 0\n",
    "    m.add_constraints(con, name='E1_AnnualEmissionProductionByMode', mask=mask)"
   ]
  },
  {
   "cell_type": "markdown",
   "metadata": {},
   "source": [
    "```ampl\n",
    "s.t. E2_AnnualEmissionProduction{r in REGION, t in TECHNOLOGY, e in EMISSION, y in YEAR}:\n",
    "\tsum{m in MODE_OF_OPERATION}\n",
    "\tAnnualTechnologyEmissionByMode[r,t,e,m,y]\n",
    "\t=\n",
    "\tAnnualTechnologyEmission[r,t,e,y];\n",
    "```"
   ]
  },
  {
   "cell_type": "code",
   "execution_count": null,
   "metadata": {},
   "outputs": [],
   "source": [
    "if ~ds.coords['EMISSION'].isnull():\n",
    "    con = m['AnnualTechnologyEmissionByMode'].sum(dims='MODE_OF_OPERATION') - m['AnnualTechnologyEmission'] == 0\n",
    "    m.add_constraints(con, name='E2_AnnualEmissionProduction')"
   ]
  },
  {
   "cell_type": "markdown",
   "metadata": {},
   "source": [
    "```ampl\n",
    "s.t. E6_EmissionsAccounting1{r in REGION, e in EMISSION, y in YEAR}:\n",
    "\tsum{t in TECHNOLOGY}\n",
    "\tAnnualTechnologyEmission[r,t,e,y]\n",
    "\t=\n",
    "\tAnnualEmissions[r,e,y];\n",
    "```"
   ]
  },
  {
   "cell_type": "code",
   "execution_count": null,
   "metadata": {},
   "outputs": [],
   "source": [
    "if ~ds.coords['EMISSION'].isnull():\n",
    "    con = m['AnnualTechnologyEmission'].sum(dims=['TECHNOLOGY']) - m['AnnualEmissions'] == 0\n",
    "    m.add_constraints(con, name='E6_EmissionsAccounting1')"
   ]
  },
  {
   "cell_type": "markdown",
   "metadata": {},
   "source": [
    "# Objective Function\n",
    "```ampl\n",
    "minimize cost: sum{r in REGION, y in YEAR} TotalDiscountedCost[r,y];\n",
    "```"
   ]
  },
  {
   "cell_type": "code",
   "execution_count": null,
   "metadata": {},
   "outputs": [],
   "source": [
    "objective = m['TotalDiscountedCost'].sum(dims=['REGION', 'YEAR'])\n",
    "m.add_objective(expr=objective, overwrite=True)"
   ]
  },
  {
   "cell_type": "markdown",
   "metadata": {},
   "source": [
    "# Solving"
   ]
  },
  {
   "cell_type": "code",
   "execution_count": null,
   "metadata": {},
   "outputs": [],
   "source": [
    "m.to_file('simplicity.lp')"
   ]
  },
  {
   "cell_type": "code",
   "execution_count": null,
   "metadata": {},
   "outputs": [],
   "source": [
    "print(available_solvers)"
   ]
  },
  {
   "cell_type": "code",
   "execution_count": null,
   "metadata": {},
   "outputs": [],
   "source": [
    "m.solve(io_api='direct', log_fn='gurobi.log')"
   ]
  },
  {
   "cell_type": "code",
   "execution_count": null,
   "metadata": {},
   "outputs": [],
   "source": [
    "m.variables.get_name_by_label(61)"
   ]
  },
  {
   "cell_type": "code",
   "execution_count": null,
   "metadata": {},
   "outputs": [],
   "source": [
    "# m.constraints.get_name_by_label(43)"
   ]
  },
  {
   "cell_type": "markdown",
   "metadata": {},
   "source": []
  },
  {
   "cell_type": "code",
   "execution_count": null,
   "metadata": {},
   "outputs": [],
   "source": [
    "m.solution"
   ]
  },
  {
   "cell_type": "code",
   "execution_count": null,
   "metadata": {},
   "outputs": [],
   "source": [
    "df = m.solution[['AnnualEmissions']].to_dataframe()\n",
    "df[df['AnnualEmissions'] != 0].plot()"
   ]
  },
  {
   "cell_type": "code",
   "execution_count": null,
   "metadata": {},
   "outputs": [],
   "source": [
    "m.solution['OperatingCost'].to_dataframe()"
   ]
  },
  {
   "cell_type": "code",
   "execution_count": null,
   "metadata": {},
   "outputs": [],
   "source": [
    "m.solution['DiscountedSalvageValue'].to_dataframe()"
   ]
  },
  {
   "cell_type": "code",
   "execution_count": null,
   "metadata": {},
   "outputs": [],
   "source": [
    "m.solution['TotalDiscountedCost'].to_dataframe()"
   ]
  },
  {
   "cell_type": "code",
   "execution_count": null,
   "metadata": {},
   "outputs": [],
   "source": [
    "from get_vars import parse_gmpl_code\n",
    "\n",
    "with open('OSeMOSYS.txt', 'r') as textfile:\n",
    "    osemosys = textfile.readlines()\n",
    "\n",
    "    sets, params, vars = parse_gmpl_code(\"\".join(osemosys))"
   ]
  },
  {
   "cell_type": "code",
   "execution_count": null,
   "metadata": {},
   "outputs": [],
   "source": [
    "with open('auto_osemosys.py', 'w') as write_file:\n",
    "    for name, variable in vars.items():\n",
    "        lower = -inf\n",
    "        upper = inf\n",
    "        integer = False\n",
    "        indices = [x.split(' in ')[-1].strip() for x in variable['indices']]\n",
    "        if variable.get('bounds'):\n",
    "            bounds = variable['bounds'].split('=')\n",
    "            sign = bounds[0].strip()\n",
    "            value = bounds[1].strip()\n",
    "            if sign == '>':\n",
    "                lower = value\n",
    "            elif sign == '<':\n",
    "                upper = value\n",
    "        if variable.get('integer'):\n",
    "            integer = True\n",
    "\n",
    "        coords = \", \".join([\"ds.coords['\" + str(x) + \"']\" for x in indices])\n",
    "        variable_name = ''.join('_'+c.lower() if c.isupper() else c for c in name).strip('_')\n",
    "        write_file.write((f\"coords = [{coords}]\\n\"))\n",
    "        write_file.write(f\"{variable_name} = m.add_variables(lower={lower}, upper={upper}, coords=coords, name='{name}', integer={integer})\\n\")\n"
   ]
  }
 ],
 "metadata": {
  "kernelspec": {
   "display_name": "Python 3 (ipykernel)",
   "language": "python",
   "name": "python3"
  },
  "language_info": {
   "codemirror_mode": {
    "name": "ipython",
    "version": 3
   },
   "file_extension": ".py",
   "mimetype": "text/x-python",
   "name": "python",
   "nbconvert_exporter": "python",
   "pygments_lexer": "ipython3",
   "version": "3.11.3"
  },
  "vscode": {
   "interpreter": {
    "hash": "5434a038c19fa95fe8846d13fe13863eee5c1bf63c39831b2cc7a52a89e337c7"
   }
  }
 },
 "nbformat": 4,
 "nbformat_minor": 2
}
