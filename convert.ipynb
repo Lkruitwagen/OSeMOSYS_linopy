{
 "cells": [
  {
   "cell_type": "code",
   "execution_count": null,
   "metadata": {},
   "outputs": [],
   "source": [
    "from otoole import ReadCsv\n",
    "import os\n",
    "\n",
    "import xarray as xr\n",
    "from numpy import inf\n",
    "\n",
    "from otoole.utils import (\n",
    "    _read_file,\n",
    "    validate_config\n",
    ")\n",
    "\n",
    "import logging\n",
    "\n",
    "logger = logging.getLogger(__name__)\n",
    "\n",
    "config_path = \"config.yaml\"\n",
    "folder_path = os.path.join('test', 'simplicity')\n",
    "# folder_path = os.path.join('test', 'super_simple')\n",
    "\n",
    "with open(config_path, \"r\") as config_file:\n",
    "    config = _read_file(config_file, '.yaml')\n",
    "validate_config(config)\n",
    "\n",
    "read_strategy = ReadCsv(user_config=config)\n",
    "\n",
    "model, defaults = read_strategy.read(folder_path)\n",
    "logging.debug(model.keys())"
   ]
  },
  {
   "cell_type": "code",
   "execution_count": null,
   "metadata": {},
   "outputs": [],
   "source": [
    "data_vars = {x: y.VALUE.to_xarray() for x, y in model.items() if config[x]['type'] == 'param'}\n",
    "coords = {x: y.values.T[0] for x, y in model.items() if config[x]['type'] == 'set'}\n",
    "ds = xr.Dataset(data_vars=data_vars, coords=coords)\n",
    "ds = ds.assign_coords({'_REGION': model['REGION'].values.T[0]})"
   ]
  },
  {
   "cell_type": "code",
   "execution_count": null,
   "metadata": {},
   "outputs": [],
   "source": [
    "for param, default in defaults.items():\n",
    "    if default != 0:\n",
    "        ds[param] = ds[param].fillna(default)"
   ]
  },
  {
   "cell_type": "markdown",
   "metadata": {},
   "source": [
    "# Model Creation"
   ]
  },
  {
   "cell_type": "code",
   "execution_count": null,
   "metadata": {},
   "outputs": [],
   "source": [
    "from linopy import Model, solvers, available_solvers\n",
    "m = Model(force_dim_names=True)"
   ]
  },
  {
   "cell_type": "markdown",
   "metadata": {},
   "source": [
    "## Variables"
   ]
  },
  {
   "cell_type": "code",
   "execution_count": null,
   "metadata": {},
   "outputs": [],
   "source": [
    "RRTiFY = [ds.coords['REGION'], ds.coords['_REGION'], ds.coords['TIMESLICE'], ds.coords['FUEL'], ds.coords['YEAR']]\n",
    "RRFY = [ds.coords['REGION'], ds.coords['_REGION'], ds.coords['FUEL'], ds.coords['YEAR']]\n",
    "RLFY = [ds.coords['REGION'], ds.coords['TIMESLICE'], ds.coords['FUEL'], ds.coords['YEAR']]\n",
    "RFY = [ds.coords['REGION'], ds.coords['FUEL'], ds.coords['YEAR']]\n",
    "RTiFY = [ds.coords['REGION'], ds.coords['TIMESLICE'], ds.coords['FUEL'], ds.coords['YEAR']]\n",
    "RSY = [ds.coords['REGION'], ds.coords['STORAGE'], ds.coords['YEAR']]\n",
    "RTeY = [ds.coords['REGION'], ds.coords['TECHNOLOGY'], ds.coords['YEAR']]\n",
    "\n",
    "mask = ~ds['SpecifiedAnnualDemand'].expand_dims('TIMESLICE').isnull()\n",
    "rate_of_demand = m.add_variables(lower=0, upper=inf, coords=RTiFY, name='RateOfDemand', integer=False, mask=mask)\n",
    "demand = m.add_variables(lower=0, upper=inf, coords=RTiFY, name='Demand', integer=False)\n",
    "\n",
    "coords = [ds.coords['REGION'], ds.coords['STORAGE'], ds.coords['SEASON'], ds.coords['DAYTYPE'], ds.coords['DAILYTIMEBRACKET'], ds.coords['YEAR']]\n",
    "rate_of_storage_charge = m.add_variables(lower=-inf, upper=inf, coords=coords, name='RateOfStorageCharge', integer=False)\n",
    "coords = [ds.coords['REGION'], ds.coords['STORAGE'], ds.coords['SEASON'], ds.coords['DAYTYPE'], ds.coords['DAILYTIMEBRACKET'], ds.coords['YEAR']]\n",
    "rate_of_storage_discharge = m.add_variables(lower=-inf, upper=inf, coords=coords, name='RateOfStorageDischarge', integer=False)\n",
    "coords = [ds.coords['REGION'], ds.coords['STORAGE'], ds.coords['SEASON'], ds.coords['DAYTYPE'], ds.coords['DAILYTIMEBRACKET'], ds.coords['YEAR']]\n",
    "net_charge_within_year = m.add_variables(lower=-inf, upper=inf, coords=coords, name='NetChargeWithinYear', integer=False)\n",
    "coords = [ds.coords['REGION'], ds.coords['STORAGE'], ds.coords['SEASON'], ds.coords['DAYTYPE'], ds.coords['DAILYTIMEBRACKET'], ds.coords['YEAR']]\n",
    "net_charge_within_day = m.add_variables(lower=-inf, upper=inf, coords=coords, name='NetChargeWithinDay', integer=False)\n",
    "\n",
    "coords = RSY\n",
    "storage_level_year_start = m.add_variables(lower=0, upper=inf, coords=coords, name='StorageLevelYearStart', integer=False)\n",
    "coords = RSY\n",
    "storage_level_year_finish = m.add_variables(lower=0, upper=inf, coords=coords, name='StorageLevelYearFinish', integer=False)\n",
    "coords = [ds.coords['REGION'], ds.coords['STORAGE'], ds.coords['SEASON'], ds.coords['YEAR']]\n",
    "storage_level_season_start = m.add_variables(lower=0, upper=inf, coords=coords, name='StorageLevelSeasonStart', integer=False)\n",
    "coords = [ds.coords['REGION'], ds.coords['STORAGE'], ds.coords['SEASON'], ds.coords['DAYTYPE'], ds.coords['YEAR']]\n",
    "storage_level_day_type_start = m.add_variables(lower=0, upper=inf, coords=coords, name='StorageLevelDayTypeStart', integer=False)\n",
    "coords = [ds.coords['REGION'], ds.coords['STORAGE'], ds.coords['SEASON'], ds.coords['DAYTYPE'], ds.coords['YEAR']]\n",
    "storage_level_day_type_finish = m.add_variables(lower=0, upper=inf, coords=coords, name='StorageLevelDayTypeFinish', integer=False)\n",
    "coords = RSY\n",
    "storage_lower_limit = m.add_variables(lower=0, upper=inf, coords=coords, name='StorageLowerLimit', integer=False)\n",
    "coords = RSY\n",
    "storage_upper_limit = m.add_variables(lower=0, upper=inf, coords=coords, name='StorageUpperLimit', integer=False)\n",
    "coords = RSY\n",
    "accumulated_new_storage_capacity = m.add_variables(lower=0, upper=inf, coords=coords, name='AccumulatedNewStorageCapacity', integer=False)\n",
    "coords = RSY\n",
    "new_storage_capacity = m.add_variables(lower=0, upper=inf, coords=coords, name='NewStorageCapacity', integer=False)\n",
    "coords = RSY\n",
    "capital_investment_storage = m.add_variables(lower=0, upper=inf, coords=coords, name='CapitalInvestmentStorage', integer=False)\n",
    "coords = RSY\n",
    "discounted_capital_investment_storage = m.add_variables(lower=0, upper=inf, coords=coords, name='DiscountedCapitalInvestmentStorage', integer=False)\n",
    "coords = RSY\n",
    "salvage_value_storage = m.add_variables(lower=0, upper=inf, coords=coords, name='SalvageValueStorage', integer=False)\n",
    "coords = RSY\n",
    "discounted_salvage_value_storage = m.add_variables(lower=0, upper=inf, coords=coords, name='DiscountedSalvageValueStorage', integer=False)\n",
    "coords = RSY\n",
    "total_discounted_storage_cost = m.add_variables(lower=0, upper=inf, coords=coords, name='TotalDiscountedStorageCost', integer=False)\n",
    "coords = RTeY\n",
    "number_of_new_technology_units = m.add_variables(lower=0, upper=inf, coords=coords, name='NumberOfNewTechnologyUnits', integer=True)\n",
    "coords = RTeY\n",
    "new_capacity = m.add_variables(lower=0, upper=inf, coords=coords, name='NewCapacity', integer=False)\n",
    "coords = RTeY\n",
    "accumulated_new_capacity = m.add_variables(lower=0, upper=inf, coords=coords, name='AccumulatedNewCapacity', integer=False)\n",
    "coords = RTeY\n",
    "total_capacity_annual = m.add_variables(lower=0, upper=inf, coords=coords, name='TotalCapacityAnnual', integer=False)\n",
    "coords = [ds.coords['REGION'], ds.coords['TIMESLICE'], ds.coords['TECHNOLOGY'], ds.coords['MODE_OF_OPERATION'], ds.coords['YEAR']]\n",
    "rate_of_activity = m.add_variables(lower=0, upper=inf, coords=coords, name='RateOfActivity', integer=False)\n",
    "coords = [ds.coords['REGION'], ds.coords['TECHNOLOGY'], ds.coords['TIMESLICE'], ds.coords['YEAR']]\n",
    "rate_of_total_activity = m.add_variables(lower=0, upper=inf, coords=coords, name='RateOfTotalActivity', integer=False)\n",
    "coords = RTeY\n",
    "total_technology_annual_activity = m.add_variables(lower=0, upper=inf, coords=coords, name='TotalTechnologyAnnualActivity', integer=False)\n",
    "coords = [ds.coords['REGION'], ds.coords['TECHNOLOGY'], ds.coords['MODE_OF_OPERATION'], ds.coords['YEAR']]\n",
    "total_annual_technology_activity_by_mode = m.add_variables(lower=0, upper=inf, coords=coords, name='TotalAnnualTechnologyActivityByMode', integer=False)\n",
    "coords = [ds.coords['REGION'], ds.coords['TECHNOLOGY']]\n",
    "total_technology_model_period_activity = m.add_variables(lower=-inf, upper=inf, coords=coords, name='TotalTechnologyModelPeriodActivity', integer=False)\n",
    "coords = [ds.coords['REGION'], ds.coords['TIMESLICE'], ds.coords['TECHNOLOGY'], ds.coords['MODE_OF_OPERATION'], ds.coords['FUEL'], ds.coords['YEAR']]\n",
    "rate_of_production_by_technology_by_mode = m.add_variables(lower=0, upper=inf, coords=coords, name='RateOfProductionByTechnologyByMode', integer=False)\n",
    "coords = [ds.coords['REGION'], ds.coords['TIMESLICE'], ds.coords['TECHNOLOGY'], ds.coords['FUEL'], ds.coords['YEAR']]\n",
    "rate_of_production_by_technology = m.add_variables(lower=0, upper=inf, coords=coords, name='RateOfProductionByTechnology', integer=False)\n",
    "coords = [ds.coords['REGION'], ds.coords['TIMESLICE'], ds.coords['TECHNOLOGY'], ds.coords['FUEL'], ds.coords['YEAR']]\n",
    "production_by_technology = m.add_variables(lower=0, upper=inf, coords=coords, name='ProductionByTechnology', integer=False)\n",
    "coords = [ds.coords['REGION'], ds.coords['TECHNOLOGY'], ds.coords['FUEL'], ds.coords['YEAR']]\n",
    "production_by_technology_annual = m.add_variables(lower=0, upper=inf, coords=coords, name='ProductionByTechnologyAnnual', integer=False)\n",
    "coords = RTiFY\n",
    "rate_of_production = m.add_variables(lower=0, upper=inf, coords=coords, name='RateOfProduction', integer=False)\n",
    "coords = RTiFY\n",
    "production = m.add_variables(lower=0, upper=inf, coords=coords, name='Production', integer=False)\n",
    "coords = [ds.coords['REGION'], ds.coords['TIMESLICE'], ds.coords['TECHNOLOGY'], ds.coords['MODE_OF_OPERATION'], ds.coords['FUEL'], ds.coords['YEAR']]\n",
    "rate_of_use_by_technology_by_mode = m.add_variables(lower=0, upper=inf, coords=coords, name='RateOfUseByTechnologyByMode', integer=False)\n",
    "coords = [ds.coords['REGION'], ds.coords['TIMESLICE'], ds.coords['TECHNOLOGY'], ds.coords['FUEL'], ds.coords['YEAR']]\n",
    "rate_of_use_by_technology = m.add_variables(lower=0, upper=inf, coords=coords, name='RateOfUseByTechnology', integer=False)\n",
    "coords = [ds.coords['REGION'], ds.coords['TECHNOLOGY'], ds.coords['FUEL'], ds.coords['YEAR']]\n",
    "use_by_technology_annual = m.add_variables(lower=0, upper=inf, coords=coords, name='UseByTechnologyAnnual', integer=False)\n",
    "coords = RTiFY\n",
    "rate_of_use = m.add_variables(lower=0, upper=inf, coords=coords, name='RateOfUse', integer=False)\n",
    "coords = [ds.coords['REGION'], ds.coords['TIMESLICE'], ds.coords['TECHNOLOGY'], ds.coords['FUEL'], ds.coords['YEAR']]\n",
    "use_by_technology = m.add_variables(lower=0, upper=inf, coords=coords, name='UseByTechnology', integer=False)\n",
    "coords = RTiFY\n",
    "use = m.add_variables(lower=0, upper=inf, coords=coords, name='Use', integer=False)\n",
    "coords = [ds.coords['REGION'], ds.coords['_REGION'], ds.coords['TIMESLICE'], ds.coords['FUEL'], ds.coords['YEAR']]\n",
    "trade = m.add_variables(lower=-inf, upper=inf, coords=coords, name='Trade', integer=False)\n",
    "coords = [ds.coords['REGION'], ds.coords['_REGION'], ds.coords['FUEL'], ds.coords['YEAR']]\n",
    "trade_annual = m.add_variables(lower=-inf, upper=inf, coords=coords, name='TradeAnnual', integer=False)\n",
    "coords = [ds.coords['REGION'], ds.coords['FUEL'], ds.coords['YEAR']]\n",
    "production_annual = m.add_variables(lower=0, upper=inf, coords=coords, name='ProductionAnnual', integer=False)\n",
    "coords = [ds.coords['REGION'], ds.coords['FUEL'], ds.coords['YEAR']]\n",
    "use_annual = m.add_variables(lower=0, upper=inf, coords=coords, name='UseAnnual', integer=False)\n",
    "coords = RTeY\n",
    "capital_investment = m.add_variables(lower=0, upper=inf, coords=coords, name='CapitalInvestment', integer=False)\n",
    "coords = RTeY\n",
    "discounted_capital_investment = m.add_variables(lower=0, upper=inf, coords=coords, name='DiscountedCapitalInvestment', integer=False)\n",
    "coords = RTeY\n",
    "salvage_value = m.add_variables(lower=0, upper=inf, coords=coords, name='SalvageValue', integer=False)\n",
    "coords = RTeY\n",
    "discounted_salvage_value = m.add_variables(lower=0, upper=inf, coords=coords, name='DiscountedSalvageValue', integer=False)\n",
    "coords = RTeY\n",
    "operating_cost = m.add_variables(lower=0, upper=inf, coords=coords, name='OperatingCost', integer=False)\n",
    "coords = RTeY\n",
    "discounted_operating_cost = m.add_variables(lower=0, upper=inf, coords=coords, name='DiscountedOperatingCost', integer=False)\n",
    "coords = RTeY\n",
    "annual_variable_operating_cost = m.add_variables(lower=0, upper=inf, coords=coords, name='AnnualVariableOperatingCost', integer=False)\n",
    "coords = RTeY\n",
    "annual_fixed_operating_cost = m.add_variables(lower=0, upper=inf, coords=coords, name='AnnualFixedOperatingCost', integer=False)\n",
    "coords = RTeY\n",
    "total_discounted_cost_by_technology = m.add_variables(lower=0, upper=inf, coords=coords, name='TotalDiscountedCostByTechnology', integer=False)\n",
    "coords = [ds.coords['REGION'], ds.coords['YEAR']]\n",
    "total_discounted_cost = m.add_variables(lower=0, upper=inf, coords=coords, name='TotalDiscountedCost', integer=False)\n",
    "coords = [ds.coords['REGION']]\n",
    "model_period_cost_by_region = m.add_variables(lower=0, upper=inf, coords=coords, name='ModelPeriodCostByRegion', integer=False)\n",
    "coords = [ds.coords['REGION'], ds.coords['YEAR']]\n",
    "total_capacity_in_reserve_margin = m.add_variables(lower=0, upper=inf, coords=coords, name='TotalCapacityInReserveMargin', integer=False)\n",
    "coords = [ds.coords['REGION'], ds.coords['TIMESLICE'], ds.coords['YEAR']]\n",
    "demand_needing_reserve_margin = m.add_variables(lower=0, upper=inf, coords=coords, name='DemandNeedingReserveMargin', integer=False)\n",
    "coords = [ds.coords['REGION'], ds.coords['YEAR']]\n",
    "total_r_e_production_annual = m.add_variables(lower=-inf, upper=inf, coords=coords, name='TotalREProductionAnnual', integer=False)\n",
    "coords = [ds.coords['REGION'], ds.coords['YEAR']]\n",
    "r_e_total_production_of_target_fuel_annual = m.add_variables(lower=-inf, upper=inf, coords=coords, name='RETotalProductionOfTargetFuelAnnual', integer=False)\n",
    "coords = [ds.coords['REGION'], ds.coords['TECHNOLOGY'], ds.coords['EMISSION'], ds.coords['MODE_OF_OPERATION'], ds.coords['YEAR']]\n",
    "annual_technology_emission_by_mode = m.add_variables(lower=0, upper=inf, coords=coords, name='AnnualTechnologyEmissionByMode', integer=False)\n",
    "coords = [ds.coords['REGION'], ds.coords['TECHNOLOGY'], ds.coords['EMISSION'], ds.coords['YEAR']]\n",
    "annual_technology_emission = m.add_variables(lower=0, upper=inf, coords=coords, name='AnnualTechnologyEmission', integer=False)\n",
    "coords = [ds.coords['REGION'], ds.coords['TECHNOLOGY'], ds.coords['EMISSION'], ds.coords['YEAR']]\n",
    "annual_technology_emission_penalty_by_emission = m.add_variables(lower=0, upper=inf, coords=coords, name='AnnualTechnologyEmissionPenaltyByEmission', integer=False)\n",
    "coords = RTeY\n",
    "annual_technology_emissions_penalty = m.add_variables(lower=0, upper=inf, coords=coords, name='AnnualTechnologyEmissionsPenalty', integer=False)\n",
    "coords = RTeY\n",
    "discounted_technology_emissions_penalty = m.add_variables(lower=0, upper=inf, coords=coords, name='DiscountedTechnologyEmissionsPenalty', integer=False)\n",
    "coords = [ds.coords['REGION'], ds.coords['EMISSION'], ds.coords['YEAR']]\n",
    "annual_emissions = m.add_variables(lower=0, upper=inf, coords=coords, name='AnnualEmissions', integer=False)\n",
    "coords = [ds.coords['REGION'], ds.coords['EMISSION']]\n",
    "model_period_emissions = m.add_variables(lower=0, upper=inf, coords=coords, name='ModelPeriodEmissions', integer=False)"
   ]
  },
  {
   "attachments": {},
   "cell_type": "markdown",
   "metadata": {},
   "source": [
    "# Discounting\n",
    "\n",
    "```ampl\n",
    "param DiscountRate{r in REGION};\n",
    "param DiscountRateIdv{r in REGION, t in TECHNOLOGY}, default DiscountRate[r];\n",
    "\n",
    "param DiscountFactor{r in REGION, y in YEAR} :=\n",
    "\t(1 + DiscountRate[r]) ^ (y - min{yy in YEAR} min(yy) + 0.0);\n",
    "param DiscountFactorMid{r in REGION, y in YEAR} :=\n",
    "\t(1 + DiscountRate[r]) ^ (y - min{yy in YEAR} min(yy) + 0.5);\n",
    "\n",
    "param OperationalLife{r in REGION, t in TECHNOLOGY};\n",
    "\n",
    "param CapitalRecoveryFactor{r in REGION, t in TECHNOLOGY} :=\n",
    "\t(1 - (1 + DiscountRateIdv[r,t])^(-1))/(1 - (1 + DiscountRateIdv[r,t])^(-(OperationalLife[r,t])));\n",
    "param PvAnnuity{r in REGION, t in TECHNOLOGY} :=\n",
    "\t(1 - (1 + DiscountRate[r])^(-(OperationalLife[r,t]))) * (1 + DiscountRate[r]) / DiscountRate[r];\n",
    "\n",
    "param DiscountRateStorage{r in REGION, s in STORAGE};\n",
    "param DiscountFactorStorage{r in REGION, s in STORAGE, y in YEAR} :=\n",
    "\t(1 + DiscountRateStorage[r, s]) ^ (y - min{yy in YEAR} min(yy) + 0.0);\n",
    "param DiscountFactorMidStorage{r in REGION, s in STORAGE, y in YEAR} :=\n",
    "\t(1 + DiscountRateStorage[r, s]) ^ (y - min{yy in YEAR} min(yy) + 0.5);\n",
    "```"
   ]
  },
  {
   "cell_type": "code",
   "execution_count": null,
   "metadata": {},
   "outputs": [],
   "source": [
    "discount_factor = ((1 + ds['DiscountRate']) ** -(ds.coords['YEAR'] - min(ds.coords['YEAR'])))\n",
    "discount_factor_mid = ((1 + ds['DiscountRate']) ** -(ds.coords['YEAR'] - min(ds.coords['YEAR']) + 0.5))"
   ]
  },
  {
   "cell_type": "code",
   "execution_count": null,
   "metadata": {},
   "outputs": [],
   "source": [
    "discount_factor_idv = ((1 + ds['DiscountRateIdv']) ** -(ds.coords['YEAR'] - min(ds.coords['YEAR'])))\n",
    "discount_factor_mid_idv = ((1 + ds['DiscountRateIdv']) ** -(ds.coords['YEAR'] - min(ds.coords['YEAR']) + 0.5))"
   ]
  },
  {
   "cell_type": "code",
   "execution_count": null,
   "metadata": {},
   "outputs": [],
   "source": [
    "pv_annuity = (1 - (1 + ds['DiscountRate'])**(-(ds['OperationalLife']))) * (1 + ds['DiscountRate']) / ds['DiscountRate']"
   ]
  },
  {
   "cell_type": "code",
   "execution_count": null,
   "metadata": {},
   "outputs": [],
   "source": [
    "capital_recovery_factor = (1 - (1 + ds['DiscountRateIdv'])**(-1))/(1 - (1 + ds['DiscountRateIdv'])**(-(ds['OperationalLife'])))\n",
    "capital_recovery_factor"
   ]
  },
  {
   "cell_type": "markdown",
   "metadata": {},
   "source": [
    "# Constraints"
   ]
  },
  {
   "cell_type": "markdown",
   "metadata": {},
   "source": [
    "## Demand"
   ]
  },
  {
   "cell_type": "markdown",
   "metadata": {},
   "source": [
    "```ampl\n",
    "s.t. EQ_SpecifiedDemand{r in REGION, l in TIMESLICE, f in FUEL, y in YEAR:\n",
    "\t\t\t\t\t\tSpecifiedAnnualDemand[r,f,y] <> 0}:\n",
    "\tSpecifiedAnnualDemand[r,f,y] * SpecifiedDemandProfile[r,f,l,y] / YearSplit[l,y]\n",
    "\t=\n",
    "\tRateOfDemand[r,l,f,y];\n",
    "\t```"
   ]
  },
  {
   "cell_type": "code",
   "execution_count": null,
   "metadata": {},
   "outputs": [],
   "source": [
    "mask = ~ds['SpecifiedAnnualDemand'].isnull()\n",
    "con = rate_of_demand == (ds['SpecifiedAnnualDemand'] * ds['SpecifiedDemandProfile'] / ds['YearSplit'])\n",
    "eq_specified_demand = m.add_constraints(con, name='EQ_SpecifiedDemand', mask=mask)"
   ]
  },
  {
   "cell_type": "code",
   "execution_count": null,
   "metadata": {},
   "outputs": [],
   "source": [
    "eq_specified_demand"
   ]
  },
  {
   "cell_type": "markdown",
   "metadata": {},
   "source": [
    "## Capacity Adequacy A"
   ]
  },
  {
   "cell_type": "markdown",
   "metadata": {},
   "source": [
    "```ampl\n",
    "s.t. CAa1_TotalNewCapacity{r in REGION, t in TECHNOLOGY, y in YEAR}:\n",
    "\tAccumulatedNewCapacity[r,t,y]\n",
    "\t=\n",
    "\tsum{yy in YEAR: y-yy < OperationalLife[r,t] && y - yy >= 0} NewCapacity[r,t,yy];\n",
    "```"
   ]
  },
  {
   "cell_type": "code",
   "execution_count": null,
   "metadata": {},
   "outputs": [],
   "source": [
    "def bounds(model, r, t, y):\n",
    "    return accumulated_new_capacity[r,t,y] - 1 * \\\n",
    "                sum(new_capacity[r,t,yy] for yy in ds.coords['YEAR'].values \n",
    "                    if (y-yy >= 0) and (y-yy < ds['OperationalLife'].sel({'REGION':r, 'TECHNOLOGY': t}))) == 0\n",
    "    \n",
    "c_aa1_total_new_capacity = m.add_constraints(bounds, coords=RTeY, name='CAa1_TotalNewCapacity')"
   ]
  },
  {
   "cell_type": "code",
   "execution_count": null,
   "metadata": {},
   "outputs": [],
   "source": [
    "c_aa1_total_new_capacity"
   ]
  },
  {
   "cell_type": "markdown",
   "metadata": {},
   "source": [
    "```ampl\n",
    "s.t. CAa2_TotalAnnualCapacity{r in REGION, t in TECHNOLOGY, y in YEAR}:\n",
    "\tAccumulatedNewCapacity[r,t,y] + ResidualCapacity[r,t,y]\n",
    "\t=\n",
    "\tTotalCapacityAnnual[r,t,y];\n",
    "```"
   ]
  },
  {
   "cell_type": "code",
   "execution_count": null,
   "metadata": {},
   "outputs": [],
   "source": [
    "con = accumulated_new_capacity - total_capacity_annual\n",
    "caa2_total_annual_capacity = m.add_constraints(lhs=con, sign='==', rhs=-ds['ResidualCapacity'].fillna(0), name=\"CAa2_TotalAnnualCapacity\", coords=RTeY)"
   ]
  },
  {
   "cell_type": "code",
   "execution_count": null,
   "metadata": {},
   "outputs": [],
   "source": [
    "caa2_total_annual_capacity"
   ]
  },
  {
   "cell_type": "markdown",
   "metadata": {},
   "source": [
    "```ampl\n",
    "s.t. CAa3_TotalActivityOfEachTechnology{r in REGION, t in TECHNOLOGY, l in TIMESLICE, y in YEAR}:\n",
    "\tsum{m in MODE_OF_OPERATION} RateOfActivity[r,l,t,m,y]\n",
    "\t=\n",
    "\tRateOfTotalActivity[r,t,l,y];\n",
    "```"
   ]
  },
  {
   "cell_type": "code",
   "execution_count": null,
   "metadata": {},
   "outputs": [],
   "source": [
    "con = rate_of_activity.sum(dims='MODE_OF_OPERATION') - rate_of_total_activity == 0\n",
    "caa3_total_activity_of_each_technology = m.add_constraints(con, name='CAa3_TotalActivityOfEachTechnology')"
   ]
  },
  {
   "cell_type": "code",
   "execution_count": null,
   "metadata": {},
   "outputs": [],
   "source": [
    "caa3_total_activity_of_each_technology"
   ]
  },
  {
   "cell_type": "markdown",
   "metadata": {},
   "source": [
    "```ampl\n",
    "s.t. CAa4_Constraint_Capacity{r in REGION, l in TIMESLICE, t in TECHNOLOGY, y in YEAR}:\n",
    "\tRateOfTotalActivity[r,t,l,y]\n",
    "\t<=\n",
    "\tTotalCapacityAnnual[r,t,y] * CapacityFactor[r,t,l,y] * CapacityToActivityUnit[r,t];\n",
    "```"
   ]
  },
  {
   "cell_type": "code",
   "execution_count": null,
   "metadata": {},
   "outputs": [],
   "source": [
    "con = rate_of_total_activity - (total_capacity_annual * ds['CapacityFactor'] * ds['CapacityToActivityUnit']) <=0\n",
    "mask = ~ds['CapacityFactor'].isnull()\n",
    "caa4_constraint_capacity = m.add_constraints(con, name='CAa4_Constraint_Capacity', mask=mask)"
   ]
  },
  {
   "cell_type": "code",
   "execution_count": null,
   "metadata": {},
   "outputs": [],
   "source": [
    "caa4_constraint_capacity"
   ]
  },
  {
   "cell_type": "markdown",
   "metadata": {},
   "source": [
    "```ampl\n",
    "s.t. CAa5_TotalNewCapacity{r in REGION, t in TECHNOLOGY, y in YEAR: CapacityOfOneTechnologyUnit[r,t,y]<>0}:\n",
    "\tCapacityOfOneTechnologyUnit[r,t,y] * NumberOfNewTechnologyUnits[r,t,y]\n",
    "\t=\n",
    "\tNewCapacity[r,t,y];\n",
    "```"
   ]
  },
  {
   "cell_type": "code",
   "execution_count": null,
   "metadata": {},
   "outputs": [],
   "source": [
    "con = ds['CapacityOfOneTechnologyUnit'] * number_of_new_technology_units - new_capacity == 0\n",
    "mask = ~ds['CapacityOfOneTechnologyUnit'].isnull()\n",
    "caa5_total_new_capacity = m.add_constraints(con, name='CAa5_TotalNewCapacity', mask=mask)"
   ]
  },
  {
   "cell_type": "code",
   "execution_count": null,
   "metadata": {},
   "outputs": [],
   "source": [
    "caa5_total_new_capacity"
   ]
  },
  {
   "cell_type": "markdown",
   "metadata": {},
   "source": [
    "## Capacity Adequacy B\n",
    "```ampl\n",
    "s.t. CAb1_PlannedMaintenance{r in REGION, t in TECHNOLOGY, y in YEAR: AvailabilityFactor[r,t,y] < 1}:\n",
    "\tsum{l in TIMESLICE} RateOfTotalActivity[r,t,l,y] * YearSplit[l,y]\n",
    "\t<=\n",
    "\tsum{l in TIMESLICE} (TotalCapacityAnnual[r,t,y] * CapacityFactor[r,t,l,y] * YearSplit[l,y])\n",
    "\t* AvailabilityFactor[r,t,y] * CapacityToActivityUnit[r,t];\n",
    "```"
   ]
  },
  {
   "cell_type": "code",
   "execution_count": null,
   "metadata": {},
   "outputs": [],
   "source": [
    "mask = ds['AvailabilityFactor'] < 1\n",
    "con = (rate_of_total_activity * ds['YearSplit']).sum(dims='TIMESLICE') \\\n",
    "      - (total_capacity_annual * ds['CapacityFactor'] * ds['YearSplit']).sum(dims='TIMESLICE') * ds['AvailabilityFactor'] * ds['CapacityToActivityUnit'] == 0\n",
    "cab1_planned_maintenance = m.add_constraints(con, name='CAb1_PlannedMaintenance', coords=RTeY, mask=mask)"
   ]
  },
  {
   "cell_type": "code",
   "execution_count": null,
   "metadata": {},
   "outputs": [],
   "source": [
    "cab1_planned_maintenance"
   ]
  },
  {
   "cell_type": "markdown",
   "metadata": {},
   "source": [
    "## Energy Balance A"
   ]
  },
  {
   "cell_type": "markdown",
   "metadata": {},
   "source": [
    "```ampl\n",
    "s.t. EBa1_RateOfFuelProduction1{\n",
    "\tr in REGION, l in TIMESLICE, f in FUEL, t in TECHNOLOGY, m in MODE_OF_OPERATION, y in YEAR:\n",
    "\tOutputActivityRatio[r,t,f,m,y] <> 0}:\n",
    "\tRateOfActivity[r,l,t,m,y] * OutputActivityRatio[r,t,f,m,y]\n",
    "\t=\n",
    "\tRateOfProductionByTechnologyByMode[r,l,t,m,f,y];\n",
    "```"
   ]
  },
  {
   "cell_type": "code",
   "execution_count": null,
   "metadata": {},
   "outputs": [],
   "source": [
    "mask = ~ds['OutputActivityRatio'].isnull()\n",
    "con = rate_of_activity * ds['OutputActivityRatio'] - rate_of_production_by_technology_by_mode == 0\n",
    "eba1_rate_of_fuel_production1 = m.add_constraints(con, name='EBa1_RateOfFuelProduction1', mask=mask)"
   ]
  },
  {
   "cell_type": "code",
   "execution_count": null,
   "metadata": {},
   "outputs": [],
   "source": [
    "eba1_rate_of_fuel_production1"
   ]
  },
  {
   "cell_type": "markdown",
   "metadata": {},
   "source": [
    "```ampl\n",
    "s.t. EBa2_RateOfFuelProduction2{r in REGION, l in TIMESLICE, f in FUEL, t in TECHNOLOGY, y in YEAR}:\n",
    "\tsum{m in MODE_OF_OPERATION: OutputActivityRatio[r,t,f,m,y] <> 0} RateOfProductionByTechnologyByMode[r,l,t,m,f,y]\n",
    "\t=\n",
    "\tRateOfProductionByTechnology[r,l,t,f,y];\n",
    "```"
   ]
  },
  {
   "cell_type": "code",
   "execution_count": null,
   "metadata": {},
   "outputs": [],
   "source": [
    "mask = ds['OutputActivityRatio'].sum(dim='MODE_OF_OPERATION') != 0\n",
    "con = (rate_of_production_by_technology_by_mode).sum(dims='MODE_OF_OPERATION') - rate_of_production_by_technology == 0\n",
    "eba2_rate_of_fuel_production2 = m.add_constraints(con, name='EBa2_RateOfFuelProduction2', mask=mask)"
   ]
  },
  {
   "cell_type": "code",
   "execution_count": null,
   "metadata": {},
   "outputs": [],
   "source": [
    "eba2_rate_of_fuel_production2"
   ]
  },
  {
   "cell_type": "markdown",
   "metadata": {},
   "source": [
    "```ampl\n",
    "s.t. EBa3_RateOfFuelProduction3{r in REGION, l in TIMESLICE, f in FUEL, y in YEAR:\n",
    "\t\t\t\t\t\t\t    (sum{t in TECHNOLOGY, m in MODE_OF_OPERATION} OutputActivityRatio[r,t,f,m,y]) <> 0}:\n",
    "\tsum{t in TECHNOLOGY} RateOfProductionByTechnology[r,l,t,f,y]\n",
    "\t=\n",
    "\tRateOfProduction[r,l,f,y];\n",
    "```"
   ]
  },
  {
   "cell_type": "code",
   "execution_count": null,
   "metadata": {},
   "outputs": [],
   "source": [
    "con = rate_of_production_by_technology.sum(dims='TECHNOLOGY') - rate_of_production == 0\n",
    "mask = ~ds['OutputActivityRatio'].sum(dim=['TECHNOLOGY', 'MODE_OF_OPERATION']).isnull()\n",
    "eba3_rate_of_fuel_production3 = m.add_constraints(con, name='EBa3_RateOfFuelProduction3', mask=mask)"
   ]
  },
  {
   "cell_type": "code",
   "execution_count": null,
   "metadata": {},
   "outputs": [],
   "source": [
    "eba3_rate_of_fuel_production3"
   ]
  },
  {
   "cell_type": "markdown",
   "metadata": {},
   "source": [
    "```ampl\n",
    "s.t. EBa4_RateOfFuelUse1{r in REGION, l in TIMESLICE, f in FUEL, t in TECHNOLOGY, m in MODE_OF_OPERATION, y in YEAR:\n",
    "\t\t\t\t\t\t InputActivityRatio[r,t,f,m,y] <> 0}:\n",
    "\tRateOfActivity[r,l,t,m,y] * InputActivityRatio[r,t,f,m,y]\n",
    "\t=\n",
    "\tRateOfUseByTechnologyByMode[r,l,t,m,f,y];\n",
    "```"
   ]
  },
  {
   "cell_type": "code",
   "execution_count": null,
   "metadata": {},
   "outputs": [],
   "source": [
    "con = rate_of_activity * ds['InputActivityRatio'] - rate_of_production_by_technology_by_mode == 0\n",
    "mask = ~ds['InputActivityRatio'].isnull()\n",
    "eba4_rate_of_fuel_use1 = m.add_constraints(con, name='EBa4_RateOfFuelUse1', mask=mask)"
   ]
  },
  {
   "cell_type": "code",
   "execution_count": null,
   "metadata": {},
   "outputs": [],
   "source": [
    "eba4_rate_of_fuel_use1"
   ]
  },
  {
   "cell_type": "markdown",
   "metadata": {},
   "source": [
    "```ampl\n",
    "s.t. EBa5_RateOfFuelUse2{r in REGION, l in TIMESLICE, f in FUEL, t in TECHNOLOGY, y in YEAR:\n",
    "\t\t\t\t\t\t sum{m in MODE_OF_OPERATION} InputActivityRatio[r,t,f,m,y] <> 0}:\n",
    "\tsum{m in MODE_OF_OPERATION: InputActivityRatio[r,t,f,m,y] <> 0}\n",
    "\tRateOfUseByTechnologyByMode[r,l,t,m,f,y]\n",
    "\t=\n",
    "\tRateOfUseByTechnology[r,l,t,f,y];\n",
    "```"
   ]
  },
  {
   "cell_type": "code",
   "execution_count": null,
   "metadata": {},
   "outputs": [],
   "source": [
    "con = rate_of_use_by_technology_by_mode.sum(dims='MODE_OF_OPERATION') - rate_of_use_by_technology == 0\n",
    "mask = ds['InputActivityRatio'].sum(dim='MODE_OF_OPERATION') != 0\n",
    "eba5_rate_of_fuel_use2 = m.add_constraints(con, name='EBa5_RateOfFuelUse2', mask=mask)"
   ]
  },
  {
   "cell_type": "code",
   "execution_count": null,
   "metadata": {},
   "outputs": [],
   "source": [
    "eba5_rate_of_fuel_use2"
   ]
  },
  {
   "cell_type": "markdown",
   "metadata": {},
   "source": [
    "```ampl\n",
    "s.t. EBa6_RateOfFuelUse3{r in REGION, l in TIMESLICE, f in FUEL, y in YEAR:\n",
    "\t\t\t\t\t\t sum{t in TECHNOLOGY, m in MODE_OF_OPERATION} InputActivityRatio[r,t,f,m,y] <> 0}:\n",
    "\tsum{t in TECHNOLOGY} RateOfUseByTechnology[r,l,t,f,y]\n",
    "\t=\n",
    "\tRateOfUse[r,l,f,y];\n",
    "```"
   ]
  },
  {
   "cell_type": "code",
   "execution_count": null,
   "metadata": {},
   "outputs": [],
   "source": [
    "con = rate_of_use_by_technology.sum(dims='TECHNOLOGY') - rate_of_use == 0\n",
    "mask = ds['InputActivityRatio'].sum(dim=['TECHNOLOGY', 'MODE_OF_OPERATION']) != 0\n",
    "eba6_rate_of_fuel_use3 = m.add_constraints(con, name='EBa6_RateOfFuelUse3', mask=mask)"
   ]
  },
  {
   "cell_type": "code",
   "execution_count": null,
   "metadata": {},
   "outputs": [],
   "source": [
    "eba6_rate_of_fuel_use3"
   ]
  },
  {
   "cell_type": "markdown",
   "metadata": {},
   "source": [
    "```ampl\n",
    "s.t. EBa7_EnergyBalanceEachTS1{r in REGION, l in TIMESLICE, f in FUEL, y in YEAR:\n",
    "\t\t\t\t\t\t\t   (sum{t in TECHNOLOGY, m in MODE_OF_OPERATION} OutputActivityRatio[r,t,f,m,y]) <> 0}:\n",
    "\tRateOfProduction[r,l,f,y] * YearSplit[l,y]\n",
    "\t=\n",
    "\tProduction[r,l,f,y];\n",
    "```"
   ]
  },
  {
   "cell_type": "code",
   "execution_count": null,
   "metadata": {},
   "outputs": [],
   "source": [
    "con = rate_of_production * ds['YearSplit'] - production == 0\n",
    "mask = ds['OutputActivityRatio'].sum(dim=['TECHNOLOGY', 'MODE_OF_OPERATION']) != 0\n",
    "eba7_energy_balance_each_ts1 = m.add_constraints(con, name='EBa7_EnergyBalanceEachTS1', mask=mask)"
   ]
  },
  {
   "cell_type": "code",
   "execution_count": null,
   "metadata": {},
   "outputs": [],
   "source": [
    "eba7_energy_balance_each_ts1"
   ]
  },
  {
   "cell_type": "markdown",
   "metadata": {},
   "source": [
    "```ampl\n",
    "s.t. EBa8_EnergyBalanceEachTS2{r in REGION, l in TIMESLICE, f in FUEL, y in YEAR:\n",
    "\t\t\t\t\t\t\t   (sum{t in TECHNOLOGY, m in MODE_OF_OPERATION} InputActivityRatio[r,t,f,m,y]) <> 0}:\n",
    "\tRateOfUse[r,l,f,y] * YearSplit[l,y]\n",
    "\t=\n",
    "\tUse[r,l,f,y];\n",
    "```"
   ]
  },
  {
   "cell_type": "code",
   "execution_count": null,
   "metadata": {},
   "outputs": [],
   "source": [
    "con = rate_of_use * ds['YearSplit'] - use == 0\n",
    "mask = ds['InputActivityRatio'].sum(dim=['TECHNOLOGY', 'MODE_OF_OPERATION']) != 0\n",
    "eba8_energy_balance_each_ts2 = m.add_constraints(con, name='EBa8_EnergyBalanceEachTS2', mask=mask)"
   ]
  },
  {
   "cell_type": "code",
   "execution_count": null,
   "metadata": {},
   "outputs": [],
   "source": [
    "eba8_energy_balance_each_ts2"
   ]
  },
  {
   "cell_type": "markdown",
   "metadata": {},
   "source": [
    "```ampl\n",
    "s.t. EBa9_EnergyBalanceEachTS3{r in REGION, l in TIMESLICE, f in FUEL, y in YEAR:\n",
    "\t\t\t\t\t\t\t   SpecifiedAnnualDemand[r,f,y] <> 0}:\n",
    "\tRateOfDemand[r,l,f,y] * YearSplit[l,y]\n",
    "\t=\n",
    "\tDemand[r,l,f,y];\n",
    "```"
   ]
  },
  {
   "cell_type": "code",
   "execution_count": null,
   "metadata": {},
   "outputs": [],
   "source": [
    "con = rate_of_demand * ds['YearSplit'] - demand == 0\n",
    "mask = ~ds['SpecifiedAnnualDemand'].isnull()\n",
    "eba9_energy_balance_each_ts3 = m.add_constraints(con, name='EBa9_EnergyBalanceEachTS3', mask=mask)"
   ]
  },
  {
   "cell_type": "code",
   "execution_count": null,
   "metadata": {},
   "outputs": [],
   "source": [
    "eba9_energy_balance_each_ts3"
   ]
  },
  {
   "cell_type": "markdown",
   "metadata": {},
   "source": [
    "```ampl\n",
    "s.t. EBa10_EnergyBalanceEachTS4{r in REGION, rr in REGION, l in TIMESLICE, f in FUEL, y in YEAR:\n",
    "\t\t\t\t\t\t\t\tTradeRoute[r,rr,f,y] <> 0}:\n",
    "\tTrade[r,rr,l,f,y]\n",
    "\t=\n",
    "\t-Trade[rr,r,l,f,y];\n",
    "```\n",
    "\n",
    "```python\n",
    "def EnergyBalanceEachTS4_rule(model, r, rr, l, f, y):\n",
    "    return model.Trade[r, rr, l, f, y] + model.Trade[rr, r, l, f, y] == 0\n",
    "```"
   ]
  },
  {
   "cell_type": "code",
   "execution_count": null,
   "metadata": {},
   "outputs": [],
   "source": [
    "def energy_balance_each_ts4_rule(model, r, rr, l, f, y):\n",
    "    return trade[r,rr,l,f,y] + trade[rr,r,l,f,y] == 0\n",
    "tr = ds['TradeRoute']\n",
    "mask = ~tr.where(tr.REGION != tr._REGION).isnull()\n",
    "eba10_energy_balance_each_ts4 = m.add_constraints(energy_balance_each_ts4_rule, name='EBa10_EnergyBalanceEachTS4', mask=mask, coords=RRTiFY)"
   ]
  },
  {
   "cell_type": "code",
   "execution_count": null,
   "metadata": {},
   "outputs": [],
   "source": [
    "eba10_energy_balance_each_ts4"
   ]
  },
  {
   "cell_type": "markdown",
   "metadata": {},
   "source": [
    "```ampl\n",
    "s.t. EBa11_EnergyBalanceEachTS5{r in REGION, l in TIMESLICE, f in FUEL, y in YEAR}:\n",
    "\tProduction[r,l,f,y]\n",
    "\t>=\n",
    "\tDemand[r,l,f,y] + Use[r,l,f,y] + sum{rr in REGION} Trade[r,rr,l,f,y] * TradeRoute[r,rr,f,y];\n",
    "```"
   ]
  },
  {
   "cell_type": "code",
   "execution_count": null,
   "metadata": {},
   "outputs": [],
   "source": [
    "def bounds(model, r, l, f, y):\n",
    "    # if ds['TradeRoute'].sel({'REGION': r,\n",
    "    #                          'TIMESLICE': l,\n",
    "    #                          'FUEL': f,\n",
    "    #                          'YEAR': y}).sum('_REGION') != 0:\n",
    "    #     return production[r,l,f,y] - (demand[r,l,f,y] + use[r,l,f,y] + sum(trade[r,rr,l,f,y] * ds['TradeRoute'][r,rr,l,f,y] for rr in ds.coords['_REGION'])) >= 0\n",
    "    # else:\n",
    "    return production[r,l,f,y] - (demand[r,l,f,y] + use[r,l,f,y]) >= 0\n",
    "\n",
    "eba11_energy_balance_each_ts5 = m.add_constraints(bounds, name='EBa11_EnergyBalanceEachTS5', coords=RLFY)"
   ]
  },
  {
   "cell_type": "code",
   "execution_count": null,
   "metadata": {},
   "outputs": [],
   "source": [
    "eba11_energy_balance_each_ts5"
   ]
  },
  {
   "cell_type": "markdown",
   "metadata": {},
   "source": [
    "# Energy Balance B"
   ]
  },
  {
   "attachments": {},
   "cell_type": "markdown",
   "metadata": {},
   "source": [
    "```ampl\n",
    "s.t. EBb1_EnergyBalanceEachYear1{r in REGION, f in FUEL, y in YEAR}:\n",
    "\tsum{l in TIMESLICE} Production[r,l,f,y]\n",
    "\t=\n",
    "\tProductionAnnual[r,f,y];\n",
    "```"
   ]
  },
  {
   "cell_type": "code",
   "execution_count": null,
   "metadata": {},
   "outputs": [],
   "source": [
    "con = production.sum(dims='TIMESLICE') - production_annual == 0\n",
    "ebb1_energy_balance_each_year1 = m.add_constraints(con, name='EBb1_EnergyBalanceEachYear1')"
   ]
  },
  {
   "cell_type": "code",
   "execution_count": null,
   "metadata": {},
   "outputs": [],
   "source": [
    "ebb1_energy_balance_each_year1"
   ]
  },
  {
   "cell_type": "markdown",
   "metadata": {},
   "source": [
    "```ampl\n",
    "s.t. EBb2_EnergyBalanceEachYear2{r in REGION, f in FUEL, y in YEAR}:\n",
    "\tsum{l in TIMESLICE} Use[r,l,f,y]\n",
    "\t=\n",
    "\tUseAnnual[r,f,y];\n",
    "```"
   ]
  },
  {
   "cell_type": "code",
   "execution_count": null,
   "metadata": {},
   "outputs": [],
   "source": [
    "con = use.sum('TIMESLICE') - use_annual == 0\n",
    "ebb2_energy_balance_each_year2 = m.add_constraints(con, name='EBb2_EnergyBalanceEachYear2')"
   ]
  },
  {
   "cell_type": "code",
   "execution_count": null,
   "metadata": {},
   "outputs": [],
   "source": [
    "ebb2_energy_balance_each_year2"
   ]
  },
  {
   "cell_type": "markdown",
   "metadata": {},
   "source": [
    "```ampl\n",
    "s.t. EBb3_EnergyBalanceEachYear3{r in REGION, rr in REGION, f in FUEL, y in YEAR}:\n",
    "\tsum{l in TIMESLICE} Trade[r,rr,l,f,y]\n",
    "\t=\n",
    "\tTradeAnnual[r,rr,f,y];\n",
    "```"
   ]
  },
  {
   "cell_type": "code",
   "execution_count": null,
   "metadata": {},
   "outputs": [],
   "source": [
    "# def ebb3_energy_balance_each_year3_rule(model, r, rr, f, y):\n",
    "#     if rr != r:\n",
    "#         return trade.sum('TIMESLICE')[r, rr, f, y] - trade_annual[r, rr, f, y] == 0\n",
    "# # con = trade.sum('TIMESLICE') - trade_annual == 0\n",
    "# tr = trade\n",
    "# mask = ~tr.where(tr.REGION != tr._REGION).isnull()\n",
    "# ebb3_energy_balance_each_year3 = m.add_constraints(ebb3_energy_balance_each_year3_rule, name='EBb3_EnergyBalanceEachYear3', coords=RRFY, mask=mask)"
   ]
  },
  {
   "cell_type": "code",
   "execution_count": null,
   "metadata": {},
   "outputs": [],
   "source": [
    "# ebb3_energy_balance_each_year3"
   ]
  },
  {
   "cell_type": "markdown",
   "metadata": {},
   "source": [
    "```ampl\n",
    "s.t. EBb4_EnergyBalanceEachYear4{r in REGION, f in FUEL, y in YEAR}:\n",
    "\tProductionAnnual[r,f,y]\n",
    "\t>=\n",
    "\tUseAnnual[r,f,y] + sum{rr in REGION} TradeAnnual[r,rr,f,y] * TradeRoute[r,rr,f,y] + AccumulatedAnnualDemand[r,f,y];\n",
    "```"
   ]
  },
  {
   "cell_type": "code",
   "execution_count": null,
   "metadata": {},
   "outputs": [],
   "source": [
    "con = production_annual - use_annual - (trade_annual.sum('_REGION') * ds['TradeRoute'].sum('_REGION'))\n",
    "# mask = ~ds['AccumulatedAnnualDemand'].isnull()\n",
    "ebb4_energy_balance_each_year4 = m.add_constraints(lhs=con, sign='>=', rhs=ds['AccumulatedAnnualDemand'].fillna(0), name='EBb4_EnergyBalanceEachYear4')"
   ]
  },
  {
   "cell_type": "code",
   "execution_count": null,
   "metadata": {},
   "outputs": [],
   "source": [
    "ebb4_energy_balance_each_year4"
   ]
  },
  {
   "cell_type": "markdown",
   "metadata": {},
   "source": [
    "# Accounting Technology Production/Use"
   ]
  },
  {
   "attachments": {},
   "cell_type": "markdown",
   "metadata": {},
   "source": [
    "```ampl\n",
    "s.t. Acc1_FuelProductionByTechnology{r in REGION, l in TIMESLICE, t in TECHNOLOGY, f in FUEL, y in YEAR}:\n",
    "\tRateOfProductionByTechnology[r,l,t,f,y] * YearSplit[l,y]\n",
    "\t=\n",
    "\tProductionByTechnology[r,l,t,f,y];\n",
    "```"
   ]
  },
  {
   "cell_type": "code",
   "execution_count": null,
   "metadata": {},
   "outputs": [],
   "source": [
    "con = (rate_of_production_by_technology * ds['YearSplit']) - production_by_technology == 0\n",
    "mask = ds['OutputActivityRatio'].sum('MODE_OF_OPERATION') != 0\n",
    "acc1_fuel_production_by_technology = m.add_constraints(con, name='Acc1_FuelProductionByTechnology', mask=mask)"
   ]
  },
  {
   "cell_type": "code",
   "execution_count": null,
   "metadata": {},
   "outputs": [],
   "source": [
    "acc1_fuel_production_by_technology"
   ]
  },
  {
   "cell_type": "markdown",
   "metadata": {},
   "source": [
    "```ampl\n",
    "s.t. Acc2_FuelUseByTechnology{r in REGION, l in TIMESLICE, t in TECHNOLOGY, f in FUEL, y in YEAR}:\n",
    "\tRateOfUseByTechnology[r,l,t,f,y] * YearSplit[l,y]\n",
    "\t=\n",
    "\tUseByTechnology[r,l,t,f,y];\n",
    "```"
   ]
  },
  {
   "cell_type": "code",
   "execution_count": null,
   "metadata": {},
   "outputs": [],
   "source": [
    "con = rate_of_use_by_technology * ds['YearSplit'] - use_by_technology == 0\n",
    "mask = ds['InputActivityRatio'].sum('MODE_OF_OPERATION') != 0\n",
    "acc2_fuel_use_by_technology = m.add_constraints(con, name='Acc2_FuelUseByTechnology', mask=mask)"
   ]
  },
  {
   "cell_type": "code",
   "execution_count": null,
   "metadata": {},
   "outputs": [],
   "source": [
    "acc2_fuel_use_by_technology"
   ]
  },
  {
   "cell_type": "markdown",
   "metadata": {},
   "source": [
    "```ampl\n",
    "s.t. Acc3_AverageAnnualRateOfActivity{r in REGION, t in TECHNOLOGY, m in MODE_OF_OPERATION, y in YEAR}:\n",
    "\tsum{l in TIMESLICE} RateOfActivity[r,l,t,m,y]*YearSplit[l,y]\n",
    "\t=\n",
    "\tTotalAnnualTechnologyActivityByMode[r,t,m,y];\n",
    "```"
   ]
  },
  {
   "cell_type": "code",
   "execution_count": null,
   "metadata": {},
   "outputs": [],
   "source": [
    "con = rate_of_activity.sum('TIMESLICE') * ds['YearSplit'] - total_annual_technology_activity_by_mode == 0\n",
    "mask = ds['OutputActivityRatio'].sum('FUEL') != 0\n",
    "acc3_average_annual_rate_of_activity = m.add_constraints(con, name='Acc3_AverageAnnualRateOfActivity', mask=mask)"
   ]
  },
  {
   "cell_type": "code",
   "execution_count": null,
   "metadata": {},
   "outputs": [],
   "source": [
    "acc3_average_annual_rate_of_activity"
   ]
  },
  {
   "cell_type": "markdown",
   "metadata": {},
   "source": [
    "```ampl\n",
    "s.t. Acc4_ModelPeriodCostByRegion{r in REGION}:\n",
    "\tsum{y in YEAR}TotalDiscountedCost[r,y] = ModelPeriodCostByRegion[r];\n",
    "```"
   ]
  },
  {
   "cell_type": "code",
   "execution_count": null,
   "metadata": {},
   "outputs": [],
   "source": [
    "con = total_discounted_cost.sum('YEAR') - model_period_cost_by_region == 0\n",
    "acc4_model_period_cost_by_region = m.add_constraints(con, name='Acc4_ModelPeriodCostByRegion')"
   ]
  },
  {
   "cell_type": "code",
   "execution_count": null,
   "metadata": {},
   "outputs": [],
   "source": [
    "acc4_model_period_cost_by_region"
   ]
  },
  {
   "attachments": {},
   "cell_type": "markdown",
   "metadata": {},
   "source": [
    "## Capital Costs"
   ]
  },
  {
   "cell_type": "markdown",
   "metadata": {},
   "source": [
    "```ampl\n",
    "s.t. CC1_UndiscountedCapitalInvestment{r in REGION, t in TECHNOLOGY, y in YEAR}: \n",
    "        CapitalCost[r,t,y] * NewCapacity[r,t,y] * CapitalRecoveryFactor[r,t] * PvAnnuity[r,t] \n",
    "        = \n",
    "        CapitalInvestment[r,t,y];\n",
    "```"
   ]
  },
  {
   "cell_type": "code",
   "execution_count": null,
   "metadata": {},
   "outputs": [],
   "source": [
    "con = ds['CapitalCost'] * new_capacity * capital_recovery_factor * pv_annuity - capital_investment == 0\n",
    "mask = ~ds['CapitalCost'].isnull()\n",
    "cc1_undiscounted_capital_investment = m.add_constraints(con, name='CC1_UndiscountedCapitalInvestment', mask=mask)"
   ]
  },
  {
   "cell_type": "code",
   "execution_count": null,
   "metadata": {},
   "outputs": [],
   "source": [
    "cc1_undiscounted_capital_investment"
   ]
  },
  {
   "attachments": {},
   "cell_type": "markdown",
   "metadata": {},
   "source": [
    "```ampl\n",
    "s.t. CC2_DiscountingCapitalInvestment{r in REGION, t in TECHNOLOGY, y in YEAR}: \n",
    "    CapitalInvestment[r,t,y]  / DiscountFactor[r,y] = DiscountedCapitalInvestment[r,t,y];\n",
    "```"
   ]
  },
  {
   "cell_type": "code",
   "execution_count": null,
   "metadata": {},
   "outputs": [],
   "source": [
    "con = capital_investment / ds['DiscountRate'] - discounted_capital_investment == 0\n",
    "mask = ~ds['CapitalCost'].isnull()\n",
    "cc2_discounting_capital_investment = m.add_constraints(con, name='CC2_DiscountingCapitalInvestment', mask=mask)"
   ]
  },
  {
   "cell_type": "code",
   "execution_count": null,
   "metadata": {},
   "outputs": [],
   "source": [
    "cc2_discounting_capital_investment"
   ]
  },
  {
   "attachments": {},
   "cell_type": "markdown",
   "metadata": {},
   "source": [
    "## Salvage Value\n",
    "\n",
    "### GNU MathProg implementation\n",
    "```ampl\n",
    "s.t. SV1_SalvageValueAtEndOfPeriod1{\n",
    "    r in REGION, t in TECHNOLOGY, y in YEAR: \n",
    "        DepreciationMethod[r]=1 && \n",
    "        (y + OperationalLife[r,t]-1) > (max{yy in YEAR} max(yy)) && \n",
    "        DiscountRate[r]>0}: \n",
    "    SalvageValue[r,t,y] \n",
    "    = \n",
    "    CapitalCost[r,t,y] * NewCapacity[r,t,y] * CapitalRecoveryFactor[r,t] * PvAnnuity[r,t] * \n",
    "    (1-(((1+DiscountRate[r])^(max{yy in YEAR} max(yy) - y+1)-1)/((1+DiscountRate[r])^OperationalLife[r,t]-1)));\n",
    "```\n",
    "### Pyomo implementation\n",
    "```python\n",
    "def SalvageValueAtEndOfPeriod1_rule(model, r, t, y):\n",
    "    if (\n",
    "        model.DepreciationMethod[r] == 1\n",
    "        and ((y + model.OperationalLife[r, t] - 1) > max(model.YEAR))\n",
    "        and model.DiscountRate[r] > 0\n",
    "    ):\n",
    "        return model.SalvageValue[r, t, y] == model.CapitalCost[\n",
    "            r, t, y\n",
    "        ] * model.NewCapacity[r, t, y] * (\n",
    "            1\n",
    "            - (\n",
    "                ((1 + model.DiscountRate[r]) ** (max(model.YEAR) - y + 1) - 1)\n",
    "                / ((1 + model.DiscountRate[r]) ** model.OperationalLife[r, t] - 1)\n",
    "            )\n",
    "        )\n",
    "    elif (\n",
    "        model.DepreciationMethod[r] == 1\n",
    "        and ((y + model.OperationalLife[r, t] - 1) > max(model.YEAR))\n",
    "        and model.DiscountRate[r] == 0\n",
    "    ) or (\n",
    "        model.DepreciationMethod[r] == 2\n",
    "        and (y + model.OperationalLife[r, t] - 1) > (max(model.YEAR))\n",
    "    ):\n",
    "        return model.SalvageValue[r, t, y] == model.CapitalCost[\n",
    "            r, t, y\n",
    "        ] * model.NewCapacity[r, t, y] * (\n",
    "            1 - (max(model.YEAR) - y + 1) / model.OperationalLife[r, t]\n",
    "        )\n",
    "    else:\n",
    "        return model.SalvageValue[r, t, y] == 0\n",
    "\n",
    "\n",
    "model.SalvageValueAtEndOfPeriod1 = Constraint(\n",
    "    model.REGION, model.TECHNOLOGY, model.YEAR, rule=SalvageValueAtEndOfPeriod1_rule\n",
    ")\n",
    "```"
   ]
  },
  {
   "cell_type": "code",
   "execution_count": null,
   "metadata": {},
   "outputs": [],
   "source": [
    "# con = salvage_value = ds['CapitalCost'] * new_capacity * capital_recovery_factor * pv_annuity \n",
    "# mask = ~ds['CapitalCost'].isnull()\n",
    "# sv1_salvage_value_at_end_of_period1 = m.add_constraints(con, name='SV1_SalvageValueAtEndOfPeriod1', mask=mask)"
   ]
  },
  {
   "cell_type": "code",
   "execution_count": null,
   "metadata": {},
   "outputs": [],
   "source": [
    "# sv1_salvage_value_at_end_of_period1"
   ]
  },
  {
   "attachments": {},
   "cell_type": "markdown",
   "metadata": {},
   "source": [
    "```ampl\n",
    "s.t. SV2_SalvageValueAtEndOfPeriod2{r in REGION, t in TECHNOLOGY, y in YEAR: (DepreciationMethod[r]=1 && (y + OperationalLife[r,t]-1) > (max{yy in YEAR} max(yy)) && DiscountRate[r]=0) || (DepreciationMethod[r]=2 && (y + OperationalLife[r,t]-1) > (max{yy in YEAR} max(yy)))}: SalvageValue[r,t,y] = CapitalCost[r,t,y] * NewCapacity[r,t,y] * CapitalRecoveryFactor[r,t] * PvAnnuity[r,t] *(1-(max{yy in YEAR} max(yy) - y+1)/OperationalLife[r,t]);\n",
    "```"
   ]
  },
  {
   "cell_type": "code",
   "execution_count": null,
   "metadata": {},
   "outputs": [],
   "source": []
  },
  {
   "cell_type": "code",
   "execution_count": null,
   "metadata": {},
   "outputs": [],
   "source": []
  },
  {
   "attachments": {},
   "cell_type": "markdown",
   "metadata": {},
   "source": [
    "```ampl\n",
    "s.t. SV3_SalvageValueAtEndOfPeriod3{r in REGION, t in TECHNOLOGY, y in YEAR: (y + OperationalLife[r,t]-1) <= (max{yy in YEAR} max(yy))}: \n",
    "    SalvageValue[r,t,y] = 0;\n",
    "```"
   ]
  },
  {
   "cell_type": "code",
   "execution_count": null,
   "metadata": {},
   "outputs": [],
   "source": [
    "con = salvage_value == 0\n",
    "sv3_salvage_value_at_end_of_period3 = m.add_constraints(con, name='SV3_SalvageValueAtEndOfPeriod3')"
   ]
  },
  {
   "cell_type": "code",
   "execution_count": null,
   "metadata": {},
   "outputs": [],
   "source": [
    "sv3_salvage_value_at_end_of_period3"
   ]
  },
  {
   "attachments": {},
   "cell_type": "markdown",
   "metadata": {},
   "source": [
    "```ampl\n",
    "s.t. SV4_SalvageValueDiscountedToStartYear{r in REGION, t in TECHNOLOGY, y in YEAR}: DiscountedSalvageValue[r,t,y] = SalvageValue[r,t,y]/((1+DiscountRate[r])^(1+max{yy in YEAR} max(yy)-min{yy in YEAR} min(yy)));\n",
    "```"
   ]
  },
  {
   "cell_type": "code",
   "execution_count": null,
   "metadata": {},
   "outputs": [],
   "source": [
    "con = discounted_salvage_value - salvage_value == 0\n",
    "sv4_salvage_value_discounted_to_start_year = m.add_constraints(con, name='SV4_SalvageValueDiscountedToStartYear')"
   ]
  },
  {
   "cell_type": "code",
   "execution_count": null,
   "metadata": {},
   "outputs": [],
   "source": [
    "sv4_salvage_value_discounted_to_start_year"
   ]
  },
  {
   "attachments": {},
   "cell_type": "markdown",
   "metadata": {},
   "source": [
    "## Operating Costs"
   ]
  },
  {
   "attachments": {},
   "cell_type": "markdown",
   "metadata": {},
   "source": [
    "```ampl\n",
    "s.t. OC1_OperatingCostsVariable{r in REGION, t in TECHNOLOGY, l in TIMESLICE, y in YEAR: sum{m in MODE_OF_OPERATION} VariableCost[r,t,m,y] <> 0}:\n",
    "\tsum{m in MODE_OF_OPERATION}\n",
    "\tTotalAnnualTechnologyActivityByMode[r,t,m,y] * VariableCost[r,t,m,y]\n",
    "\t=\n",
    "\tAnnualVariableOperatingCost[r,t,y];\n",
    "```"
   ]
  },
  {
   "cell_type": "code",
   "execution_count": null,
   "metadata": {},
   "outputs": [],
   "source": [
    "con = total_annual_technology_activity_by_mode.sum(dims='MODE_OF_OPERATION') * ds['VariableCost'] - annual_variable_operating_cost == 0\n",
    "mask = (ds['VariableCost'].sum(dim='MODE_OF_OPERATION') != 0) & (~ds['VariableCost'].isnull())\n",
    "oc1_operating_costs_variable = m.add_constraints(con, name='OC1_OperatingCostsVariable', mask=mask)"
   ]
  },
  {
   "cell_type": "code",
   "execution_count": null,
   "metadata": {},
   "outputs": [],
   "source": [
    "oc1_operating_costs_variable"
   ]
  },
  {
   "attachments": {},
   "cell_type": "markdown",
   "metadata": {},
   "source": [
    "```ampl\n",
    "s.t. OC2_OperatingCostsFixedAnnual{r in REGION, t in TECHNOLOGY, y in YEAR}:\n",
    "\tTotalCapacityAnnual[r,t,y]*FixedCost[r,t,y]\n",
    "\t=\n",
    "\tAnnualFixedOperatingCost[r,t,y];\n",
    "```"
   ]
  },
  {
   "cell_type": "code",
   "execution_count": null,
   "metadata": {},
   "outputs": [],
   "source": [
    "con = total_capacity_annual * ds['FixedCost'] - annual_fixed_operating_cost == 0\n",
    "mask = ~ds['FixedCost'].isnull()\n",
    "oc2_operating_costs_fixed_annual = m.add_constraints(con, name='OC2_OperatingCostsFixedAnnual', mask=mask)"
   ]
  },
  {
   "cell_type": "code",
   "execution_count": null,
   "metadata": {},
   "outputs": [],
   "source": [
    "oc2_operating_costs_fixed_annual"
   ]
  },
  {
   "attachments": {},
   "cell_type": "markdown",
   "metadata": {},
   "source": [
    "```ampl\n",
    "s.t. OC3_OperatingCostsTotalAnnual{r in REGION, t in TECHNOLOGY, y in YEAR}:\n",
    "\tAnnualFixedOperatingCost[r,t,y] + AnnualVariableOperatingCost[r,t,y]\n",
    "\t=\n",
    "\tOperatingCost[r,t,y];\n",
    "```"
   ]
  },
  {
   "cell_type": "code",
   "execution_count": null,
   "metadata": {},
   "outputs": [],
   "source": [
    "con = annual_fixed_operating_cost + annual_variable_operating_cost - operating_cost == 0\n",
    "mask = (ds['VariableCost'].sum(dim='MODE_OF_OPERATION') != 0) & (~ds['FixedCost'].isnull())\n",
    "oc3_operating_costs_total_annual = m.add_constraints(con, name='OC3_OperatingCostsTotalAnnual', mask=mask)"
   ]
  },
  {
   "cell_type": "code",
   "execution_count": null,
   "metadata": {},
   "outputs": [],
   "source": [
    "oc3_operating_costs_total_annual"
   ]
  },
  {
   "attachments": {},
   "cell_type": "markdown",
   "metadata": {},
   "source": [
    "```ampl\n",
    "s.t. OC4_DiscountedOperatingCostsTotalAnnual{r in REGION, t in TECHNOLOGY, y in YEAR}:\n",
    "\tOperatingCost[r,t,y] / DiscountFactorMid[r, y]\n",
    "\t=\n",
    "\tDiscountedOperatingCost[r,t,y];\n",
    "```"
   ]
  },
  {
   "cell_type": "code",
   "execution_count": null,
   "metadata": {},
   "outputs": [],
   "source": [
    "discount_factor_mid = 1\n",
    "con = operating_cost / discount_factor_mid - discounted_operating_cost == 0\n",
    "oc4_discounted_operating_costs_total_annual = m.add_constraints(con, name='OC4_DiscountedOperatingCostsTotalAnnual')"
   ]
  },
  {
   "cell_type": "code",
   "execution_count": null,
   "metadata": {},
   "outputs": [],
   "source": [
    "oc4_discounted_operating_costs_total_annual"
   ]
  },
  {
   "attachments": {},
   "cell_type": "markdown",
   "metadata": {},
   "source": [
    "## Total Discounted Costs\n",
    "\n",
    "```ampl\n",
    "s.t. TDC1_TotalDiscountedCostByTechnology{r in REGION, t in TECHNOLOGY, y in YEAR}: \n",
    "    DiscountedOperatingCost[r,t,y] + DiscountedCapitalInvestment[r,t,y] \n",
    "    + DiscountedTechnologyEmissionsPenalty[r,t,y] - DiscountedSalvageValue[r,t,y] = TotalDiscountedCostByTechnology[r,t,y];\n",
    "```"
   ]
  },
  {
   "cell_type": "code",
   "execution_count": null,
   "metadata": {},
   "outputs": [],
   "source": [
    "con = discounted_operating_cost + discounted_capital_investment + discounted_technology_emissions_penalty \\\n",
    "        - discounted_salvage_value - total_discounted_cost_by_technology == 0\n",
    "tdc1_total_discounted_cost_by_technology = m.add_constraints(con, name='TDC1_TotalDiscountedCostByTechnology')"
   ]
  },
  {
   "cell_type": "code",
   "execution_count": null,
   "metadata": {},
   "outputs": [],
   "source": [
    "tdc1_total_discounted_cost_by_technology"
   ]
  },
  {
   "attachments": {},
   "cell_type": "markdown",
   "metadata": {},
   "source": [
    "```ampl\n",
    "s.t. TDC2_TotalDiscountedCost{r in REGION, y in YEAR}: \n",
    "    sum{t in TECHNOLOGY} TotalDiscountedCostByTechnology[r,t,y] + \n",
    "    sum{s in STORAGE} TotalDiscountedStorageCost[r,s,y] \n",
    "    = TotalDiscountedCost[r,y];\n",
    "```"
   ]
  },
  {
   "cell_type": "code",
   "execution_count": null,
   "metadata": {},
   "outputs": [],
   "source": [
    "con = total_discounted_cost_by_technology.sum('TECHNOLOGY') + total_discounted_storage_cost.sum('STORAGE') - total_discounted_cost == 0\n",
    "tdc2_total_discounted_cost = m.add_constraints(con, name='TDC2_TotalDiscountedCost')"
   ]
  },
  {
   "cell_type": "code",
   "execution_count": null,
   "metadata": {},
   "outputs": [],
   "source": [
    "tdc2_total_discounted_cost"
   ]
  },
  {
   "attachments": {},
   "cell_type": "markdown",
   "metadata": {},
   "source": [
    "## Total Capacity Constraints\n",
    "\n",
    "```ampl\n",
    "s.t. TCC1_TotalAnnualMaxCapacityConstraint{r in REGION, t in TECHNOLOGY, y in YEAR: TotalAnnualMaxCapacity[r,t,y] <> -1}: TotalCapacityAnnual[r,t,y] <= TotalAnnualMaxCapacity[r,t,y];\n",
    "```"
   ]
  },
  {
   "cell_type": "code",
   "execution_count": null,
   "metadata": {},
   "outputs": [],
   "source": [
    "con = total_capacity_annual <= ds['TotalAnnualMaxCapacity']\n",
    "mask = ds['TotalAnnualMaxCapacity'] >= 0\n",
    "tcc1_total_annual_max_capacity_constraint = m.add_constraints(con, name='TCC1_TotalAnnualMaxCapacityConstraint', mask=mask)"
   ]
  },
  {
   "cell_type": "code",
   "execution_count": null,
   "metadata": {},
   "outputs": [],
   "source": [
    "tcc1_total_annual_max_capacity_constraint"
   ]
  },
  {
   "attachments": {},
   "cell_type": "markdown",
   "metadata": {},
   "source": [
    "```ampl\n",
    "s.t. TCC2_TotalAnnualMinCapacityConstraint{r in REGION, t in TECHNOLOGY, y in YEAR: TotalAnnualMinCapacity[r,t,y]>0}: TotalCapacityAnnual[r,t,y] >= TotalAnnualMinCapacity[r,t,y];\n",
    "```"
   ]
  },
  {
   "cell_type": "code",
   "execution_count": null,
   "metadata": {},
   "outputs": [],
   "source": [
    "con = total_capacity_annual >= ds['TotalAnnualMinCapacity']\n",
    "mask = ds['TotalAnnualMinCapacity'] > 0\n",
    "tcc2_total_annual_min_capacity_constraint = m.add_constraints(con, name='TCC2_TotalAnnualMinCapacityConstraint', mask=mask)"
   ]
  },
  {
   "cell_type": "code",
   "execution_count": null,
   "metadata": {},
   "outputs": [],
   "source": [
    "tcc2_total_annual_min_capacity_constraint"
   ]
  },
  {
   "attachments": {},
   "cell_type": "markdown",
   "metadata": {},
   "source": [
    "# Annual Activity Constraints\n",
    "\n",
    "```ampl\n",
    "s.t. AAC1_TotalAnnualTechnologyActivity{r in REGION, t in TECHNOLOGY, y in YEAR}: \n",
    "    sum{l in TIMESLICE} RateOfTotalActivity[r,t,l,y]*YearSplit[l,y] = TotalTechnologyAnnualActivity[r,t,y];\n",
    "```\n",
    "\n"
   ]
  },
  {
   "cell_type": "code",
   "execution_count": null,
   "metadata": {},
   "outputs": [],
   "source": [
    "con = (rate_of_total_activity * ds['YearSplit']).sum('TIMESLICE') - total_technology_annual_activity == 0\n",
    "aac1_total_annual_technology_activity = m.add_constraints(con, name='AAC1_TotalAnnualTechnologyActivity')"
   ]
  },
  {
   "cell_type": "code",
   "execution_count": null,
   "metadata": {},
   "outputs": [],
   "source": [
    "aac1_total_annual_technology_activity"
   ]
  },
  {
   "attachments": {},
   "cell_type": "markdown",
   "metadata": {},
   "source": [
    "```ampl\n",
    "s.t. AAC2_TotalAnnualTechnologyActivityUpperLimit{r in REGION, t in TECHNOLOGY, y in YEAR: TotalTechnologyAnnualActivityUpperLimit[r,t,y] <> -1}:\n",
    "    TotalTechnologyAnnualActivity[r,t,y] <= TotalTechnologyAnnualActivityUpperLimit[r,t,y] ;\n",
    "```"
   ]
  },
  {
   "cell_type": "code",
   "execution_count": null,
   "metadata": {},
   "outputs": [],
   "source": [
    "con = total_technology_annual_activity <= ds['TotalTechnologyAnnualActivityUpperLimit']\n",
    "mask = ds['TotalTechnologyAnnualActivityUpperLimit'] != -1\n",
    "aac2_total_annual_technology_activity_upper_limit = m.add_constraints(con, name='AAC2_TotalAnnualTechnologyActivityUpperLimit', mask=mask)"
   ]
  },
  {
   "cell_type": "code",
   "execution_count": null,
   "metadata": {},
   "outputs": [],
   "source": [
    "aac2_total_annual_technology_activity_upper_limit"
   ]
  },
  {
   "attachments": {},
   "cell_type": "markdown",
   "metadata": {},
   "source": [
    "```ampl\n",
    "s.t. AAC3_TotalAnnualTechnologyActivityLowerLimit{r in REGION, t in TECHNOLOGY, y in YEAR: TotalTechnologyAnnualActivityLowerLimit[r,t,y]>0}: TotalTechnologyAnnualActivity[r,t,y] >= TotalTechnologyAnnualActivityLowerLimit[r,t,y] ;\n",
    "```"
   ]
  },
  {
   "cell_type": "code",
   "execution_count": null,
   "metadata": {},
   "outputs": [],
   "source": [
    "con = total_technology_annual_activity >= ds['TotalTechnologyAnnualActivityLowerLimit']\n",
    "mask = ds['TotalTechnologyAnnualActivityLowerLimit'] > 0\n",
    "aac3_total_annual_technology_activity_lower_limit = m.add_constraints(con, name='AAC3_TotalAnnualTechnologyActivityLowerLimit', mask=mask)"
   ]
  },
  {
   "cell_type": "code",
   "execution_count": null,
   "metadata": {},
   "outputs": [],
   "source": [
    "aac3_total_annual_technology_activity_lower_limit"
   ]
  },
  {
   "attachments": {},
   "cell_type": "markdown",
   "metadata": {},
   "source": [
    "# Total Activity Constraints\n",
    "\n",
    "```ampl\n",
    "s.t. TAC1_TotalModelHorizonTechnologyActivity{r in REGION, t in TECHNOLOGY}: \n",
    "    sum{y in YEAR} TotalTechnologyAnnualActivity[r,t,y] = TotalTechnologyModelPeriodActivity[r,t];\n",
    "```"
   ]
  },
  {
   "cell_type": "code",
   "execution_count": null,
   "metadata": {},
   "outputs": [],
   "source": [
    "con = total_technology_annual_activity.sum('YEAR') - total_technology_model_period_activity == 0\n",
    "tac1_total_model_horizon_technology_activity = m.add_constraints(con, name='TAC1_TotalModelHorizonTechnologyActivity')"
   ]
  },
  {
   "cell_type": "code",
   "execution_count": null,
   "metadata": {},
   "outputs": [],
   "source": [
    "tac1_total_model_horizon_technology_activity"
   ]
  },
  {
   "attachments": {},
   "cell_type": "markdown",
   "metadata": {},
   "source": [
    "```ampl\n",
    "s.t. TAC2_TotalModelHorizonTechnologyActivityUpperLimit{r in REGION, t in TECHNOLOGY: TotalTechnologyModelPeriodActivityUpperLimit[r,t]<>-1}: TotalTechnologyModelPeriodActivity[r,t] <= TotalTechnologyModelPeriodActivityUpperLimit[r,t] ;\n",
    "```"
   ]
  },
  {
   "cell_type": "code",
   "execution_count": null,
   "metadata": {},
   "outputs": [],
   "source": [
    "con = total_technology_model_period_activity <= ds['TotalTechnologyModelPeriodActivityUpperLimit']\n",
    "mask = ds['TotalTechnologyModelPeriodActivityUpperLimit'] != -1\n",
    "tac2_total_model_horizon_technology_activity_upper_limit = m.add_constraints(con, name='TAC2_TotalModelHorizonTechnologyActivityUpperLimit', mask=mask)"
   ]
  },
  {
   "cell_type": "code",
   "execution_count": null,
   "metadata": {},
   "outputs": [],
   "source": [
    "tac2_total_model_horizon_technology_activity_upper_limit"
   ]
  },
  {
   "attachments": {},
   "cell_type": "markdown",
   "metadata": {},
   "source": [
    "```ampl\n",
    "s.t. TAC3_TotalModelHorizenTechnologyActivityLowerLimit{r in REGION, t in TECHNOLOGY: TotalTechnologyModelPeriodActivityLowerLimit[r,t]>0}: TotalTechnologyModelPeriodActivity[r,t] >= TotalTechnologyModelPeriodActivityLowerLimit[r,t] ;\n",
    "```"
   ]
  },
  {
   "cell_type": "code",
   "execution_count": null,
   "metadata": {},
   "outputs": [],
   "source": [
    "con = total_technology_model_period_activity >= ds['TotalTechnologyModelPeriodActivityLowerLimit']\n",
    "mask = ds['TotalTechnologyModelPeriodActivityLowerLimit'] > 0\n",
    "tac3_total_model_horizen_technology_activity_lower_limit = m.add_constraints(con, name='TAC3_TotalModelHorizenTechnologyActivityLowerLimit', mask=mask)"
   ]
  },
  {
   "cell_type": "code",
   "execution_count": null,
   "metadata": {},
   "outputs": [],
   "source": [
    "tac3_total_model_horizen_technology_activity_lower_limit"
   ]
  },
  {
   "cell_type": "markdown",
   "metadata": {},
   "source": [
    "## Emissions"
   ]
  },
  {
   "cell_type": "markdown",
   "metadata": {},
   "source": [
    "```ampl\n",
    "s.t. E1_AnnualEmissionProductionByMode{r in REGION, t in TECHNOLOGY, e in EMISSION, m in MODE_OF_OPERATION, y in YEAR:\n",
    "\t\t\t\t\t\t\t\t\t   EmissionActivityRatio[r,t,e,m,y] <> 0}:\n",
    "\tEmissionActivityRatio[r,t,e,m,y] * TotalAnnualTechnologyActivityByMode[r,t,m,y]\n",
    "\t=\n",
    "\tAnnualTechnologyEmissionByMode[r,t,e,m,y];\n",
    "```\n"
   ]
  },
  {
   "cell_type": "code",
   "execution_count": null,
   "metadata": {},
   "outputs": [],
   "source": [
    "if ~ds.coords['EMISSION'].isnull():\n",
    "    mask = ~ds['EmissionActivityRatio'].isnull()\n",
    "    con = ds['EmissionActivityRatio'] * total_annual_technology_activity_by_mode - annual_technology_emission_by_mode == 0\n",
    "    e1_annual_emission_production_by_mode = m.add_constraints(con, name='E1_AnnualEmissionProductionByMode', mask=mask)"
   ]
  },
  {
   "cell_type": "code",
   "execution_count": null,
   "metadata": {},
   "outputs": [],
   "source": [
    "# e1_annual_emission_production_by_mode"
   ]
  },
  {
   "cell_type": "markdown",
   "metadata": {},
   "source": [
    "```ampl\n",
    "s.t. E2_AnnualEmissionProduction{r in REGION, t in TECHNOLOGY, e in EMISSION, y in YEAR}:\n",
    "\tsum{m in MODE_OF_OPERATION}\n",
    "\tAnnualTechnologyEmissionByMode[r,t,e,m,y]\n",
    "\t=\n",
    "\tAnnualTechnologyEmission[r,t,e,y];\n",
    "```"
   ]
  },
  {
   "cell_type": "code",
   "execution_count": null,
   "metadata": {},
   "outputs": [],
   "source": [
    "if ~ds.coords['EMISSION'].isnull():\n",
    "    con = annual_technology_emission_by_mode.sum(dims='MODE_OF_OPERATION') - annual_technology_emission == 0\n",
    "    e2_annual_emission_production = m.add_constraints(con, name='E2_AnnualEmissionProduction')"
   ]
  },
  {
   "cell_type": "code",
   "execution_count": null,
   "metadata": {},
   "outputs": [],
   "source": [
    "# e2_annual_emission_production"
   ]
  },
  {
   "cell_type": "markdown",
   "metadata": {},
   "source": [
    "```ampl\n",
    "s.t. E6_EmissionsAccounting1{r in REGION, e in EMISSION, y in YEAR}:\n",
    "\tsum{t in TECHNOLOGY}\n",
    "\tAnnualTechnologyEmission[r,t,e,y]\n",
    "\t=\n",
    "\tAnnualEmissions[r,e,y];\n",
    "```"
   ]
  },
  {
   "cell_type": "code",
   "execution_count": null,
   "metadata": {},
   "outputs": [],
   "source": [
    "if ~ds.coords['EMISSION'].isnull():\n",
    "    con = annual_technology_emission.sum(dims=['TECHNOLOGY']) - annual_emissions == 0\n",
    "    e6_emissions_accounting = m.add_constraints(con, name='E6_EmissionsAccounting1')"
   ]
  },
  {
   "cell_type": "code",
   "execution_count": null,
   "metadata": {},
   "outputs": [],
   "source": [
    "# e6_emissions_accounting"
   ]
  },
  {
   "cell_type": "markdown",
   "metadata": {},
   "source": [
    "# Objective Function\n",
    "```ampl\n",
    "minimize cost: sum{r in REGION, y in YEAR} TotalDiscountedCost[r,y];\n",
    "```"
   ]
  },
  {
   "cell_type": "code",
   "execution_count": null,
   "metadata": {},
   "outputs": [],
   "source": [
    "objective = total_discounted_cost.sum(dims=['REGION', 'YEAR'])\n",
    "m.add_objective(expr=objective)"
   ]
  },
  {
   "cell_type": "markdown",
   "metadata": {},
   "source": [
    "# Solving"
   ]
  },
  {
   "cell_type": "code",
   "execution_count": null,
   "metadata": {},
   "outputs": [],
   "source": [
    "m.to_file('simplicity.lp')"
   ]
  },
  {
   "cell_type": "code",
   "execution_count": null,
   "metadata": {},
   "outputs": [],
   "source": [
    "print(available_solvers)"
   ]
  },
  {
   "cell_type": "code",
   "execution_count": null,
   "metadata": {},
   "outputs": [],
   "source": [
    "# m.solve()"
   ]
  },
  {
   "cell_type": "code",
   "execution_count": null,
   "metadata": {},
   "outputs": [],
   "source": [
    "m.variables.get_name_by_label(61)"
   ]
  },
  {
   "cell_type": "code",
   "execution_count": null,
   "metadata": {},
   "outputs": [],
   "source": [
    "m.constraints.get_name_by_label(43)"
   ]
  },
  {
   "cell_type": "markdown",
   "metadata": {},
   "source": []
  },
  {
   "cell_type": "code",
   "execution_count": null,
   "metadata": {},
   "outputs": [],
   "source": [
    "m.solution[['RateOfProduction']].to_dataframe()"
   ]
  },
  {
   "cell_type": "code",
   "execution_count": null,
   "metadata": {},
   "outputs": [],
   "source": [
    "m.solution['OperatingCost'].to_dataframe()"
   ]
  },
  {
   "cell_type": "code",
   "execution_count": null,
   "metadata": {},
   "outputs": [],
   "source": [
    "m.solution['DiscountedSalvageValue'].to_dataframe()"
   ]
  },
  {
   "cell_type": "code",
   "execution_count": null,
   "metadata": {},
   "outputs": [],
   "source": [
    "m.solution['TotalDiscountedCost'].to_dataframe()"
   ]
  },
  {
   "cell_type": "code",
   "execution_count": null,
   "metadata": {},
   "outputs": [],
   "source": [
    "from get_vars import parse_gmpl_code\n",
    "\n",
    "with open('OSeMOSYS.txt', 'r') as textfile:\n",
    "    osemosys = textfile.readlines()\n",
    "\n",
    "    sets, params, vars = parse_gmpl_code(\"\".join(osemosys))"
   ]
  },
  {
   "cell_type": "code",
   "execution_count": null,
   "metadata": {},
   "outputs": [],
   "source": [
    "with open('auto_osemosys.py', 'w') as write_file:\n",
    "    for name, variable in vars.items():\n",
    "        lower = -inf\n",
    "        upper = inf\n",
    "        integer = False\n",
    "        indices = [x.split(' in ')[-1].strip() for x in variable['indices']]\n",
    "        if variable.get('bounds'):\n",
    "            bounds = variable['bounds'].split('=')\n",
    "            sign = bounds[0].strip()\n",
    "            value = bounds[1].strip()\n",
    "            if sign == '>':\n",
    "                lower = value\n",
    "            elif sign == '<':\n",
    "                upper = value\n",
    "        if variable.get('integer'):\n",
    "            integer = True\n",
    "\n",
    "        coords = \", \".join([\"ds.coords['\" + str(x) + \"']\" for x in indices])\n",
    "        variable_name = ''.join('_'+c.lower() if c.isupper() else c for c in name).strip('_')\n",
    "        write_file.write((f\"coords = [{coords}]\\n\"))\n",
    "        write_file.write(f\"{variable_name} = m.add_variables(lower={lower}, upper={upper}, coords=coords, name='{name}', integer={integer})\\n\")\n"
   ]
  },
  {
   "cell_type": "code",
   "execution_count": null,
   "metadata": {},
   "outputs": [],
   "source": []
  },
  {
   "cell_type": "code",
   "execution_count": null,
   "metadata": {},
   "outputs": [],
   "source": []
  },
  {
   "cell_type": "code",
   "execution_count": null,
   "metadata": {},
   "outputs": [],
   "source": []
  },
  {
   "cell_type": "code",
   "execution_count": null,
   "metadata": {},
   "outputs": [],
   "source": []
  }
 ],
 "metadata": {
  "kernelspec": {
   "display_name": "Python 3 (ipykernel)",
   "language": "python",
   "name": "python3"
  },
  "language_info": {
   "codemirror_mode": {
    "name": "ipython",
    "version": 3
   },
   "file_extension": ".py",
   "mimetype": "text/x-python",
   "name": "python",
   "nbconvert_exporter": "python",
   "pygments_lexer": "ipython3",
   "version": "3.11.3"
  },
  "vscode": {
   "interpreter": {
    "hash": "5434a038c19fa95fe8846d13fe13863eee5c1bf63c39831b2cc7a52a89e337c7"
   }
  }
 },
 "nbformat": 4,
 "nbformat_minor": 2
}
